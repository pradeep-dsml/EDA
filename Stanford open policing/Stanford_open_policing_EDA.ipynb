{
  "nbformat": 4,
  "nbformat_minor": 0,
  "metadata": {
    "kernelspec": {
      "display_name": "Python 3",
      "language": "python",
      "name": "python3"
    },
    "language_info": {
      "codemirror_mode": {
        "name": "ipython",
        "version": 3
      },
      "file_extension": ".py",
      "mimetype": "text/x-python",
      "name": "python",
      "nbconvert_exporter": "python",
      "pygments_lexer": "ipython3",
      "version": "3.5.4"
    },
    "colab": {
      "name": "Stanford open policing EDA.ipynb",
      "provenance": []
    }
  },
  "cells": [
    {
      "cell_type": "markdown",
      "metadata": {
        "id": "2DIBL4PR4vXS"
      },
      "source": [
        "# ***Stanford open policing EDA and vizualization***"
      ]
    },
    {
      "cell_type": "code",
      "metadata": {
        "colab": {
          "base_uri": "https://localhost:8080/",
          "height": 34
        },
        "id": "-SJOZ2Oy2SfF",
        "outputId": "7f8238d5-341f-4982-af16-864223a0a1b9"
      },
      "source": [
        "import pandas as pd\n",
        "pd.__version__"
      ],
      "execution_count": 91,
      "outputs": [
        {
          "output_type": "execute_result",
          "data": {
            "application/vnd.google.colaboratory.intrinsic+json": {
              "type": "string"
            },
            "text/plain": [
              "'1.1.5'"
            ]
          },
          "metadata": {
            "tags": []
          },
          "execution_count": 91
        }
      ]
    },
    {
      "cell_type": "code",
      "metadata": {
        "id": "UtL0YNcc2SfJ"
      },
      "source": [
        "import matplotlib.pyplot as plt\n",
        "%matplotlib inline"
      ],
      "execution_count": 92,
      "outputs": []
    },
    {
      "cell_type": "markdown",
      "metadata": {
        "id": "8b_bEJrZ2SfK"
      },
      "source": [
        "# Dataset: Stanford Open Policing Project\n",
        "\n",
        "https://openpolicing.stanford.edu/"
      ]
    },
    {
      "cell_type": "code",
      "metadata": {
        "id": "A9MZEtZe2SfL"
      },
      "source": [
        "# ri stands for Rhode Island\n",
        "url=\"https://raw.githubusercontent.com/pradeep-dsml/EDA/main/Stanford%20open%20policing/police.csv\"\n",
        "ri = pd.read_csv(url)"
      ],
      "execution_count": 93,
      "outputs": []
    },
    {
      "cell_type": "code",
      "metadata": {
        "colab": {
          "base_uri": "https://localhost:8080/",
          "height": 301
        },
        "id": "cL93UFtF2SfM",
        "outputId": "018bdbfe-57f5-41b8-8c8c-0cee7c36c5c9"
      },
      "source": [
        "# what does each row represent?\n",
        "ri.head()"
      ],
      "execution_count": 94,
      "outputs": [
        {
          "output_type": "execute_result",
          "data": {
            "text/html": [
              "<div>\n",
              "<style scoped>\n",
              "    .dataframe tbody tr th:only-of-type {\n",
              "        vertical-align: middle;\n",
              "    }\n",
              "\n",
              "    .dataframe tbody tr th {\n",
              "        vertical-align: top;\n",
              "    }\n",
              "\n",
              "    .dataframe thead th {\n",
              "        text-align: right;\n",
              "    }\n",
              "</style>\n",
              "<table border=\"1\" class=\"dataframe\">\n",
              "  <thead>\n",
              "    <tr style=\"text-align: right;\">\n",
              "      <th></th>\n",
              "      <th>stop_date</th>\n",
              "      <th>stop_time</th>\n",
              "      <th>county_name</th>\n",
              "      <th>driver_gender</th>\n",
              "      <th>driver_age_raw</th>\n",
              "      <th>driver_age</th>\n",
              "      <th>driver_race</th>\n",
              "      <th>violation_raw</th>\n",
              "      <th>violation</th>\n",
              "      <th>search_conducted</th>\n",
              "      <th>search_type</th>\n",
              "      <th>stop_outcome</th>\n",
              "      <th>is_arrested</th>\n",
              "      <th>stop_duration</th>\n",
              "      <th>drugs_related_stop</th>\n",
              "    </tr>\n",
              "  </thead>\n",
              "  <tbody>\n",
              "    <tr>\n",
              "      <th>0</th>\n",
              "      <td>2005-01-02</td>\n",
              "      <td>01:55</td>\n",
              "      <td>NaN</td>\n",
              "      <td>M</td>\n",
              "      <td>1985.0</td>\n",
              "      <td>20.0</td>\n",
              "      <td>White</td>\n",
              "      <td>Speeding</td>\n",
              "      <td>Speeding</td>\n",
              "      <td>False</td>\n",
              "      <td>NaN</td>\n",
              "      <td>Citation</td>\n",
              "      <td>False</td>\n",
              "      <td>0-15 Min</td>\n",
              "      <td>False</td>\n",
              "    </tr>\n",
              "    <tr>\n",
              "      <th>1</th>\n",
              "      <td>2005-01-18</td>\n",
              "      <td>08:15</td>\n",
              "      <td>NaN</td>\n",
              "      <td>M</td>\n",
              "      <td>1965.0</td>\n",
              "      <td>40.0</td>\n",
              "      <td>White</td>\n",
              "      <td>Speeding</td>\n",
              "      <td>Speeding</td>\n",
              "      <td>False</td>\n",
              "      <td>NaN</td>\n",
              "      <td>Citation</td>\n",
              "      <td>False</td>\n",
              "      <td>0-15 Min</td>\n",
              "      <td>False</td>\n",
              "    </tr>\n",
              "    <tr>\n",
              "      <th>2</th>\n",
              "      <td>2005-01-23</td>\n",
              "      <td>23:15</td>\n",
              "      <td>NaN</td>\n",
              "      <td>M</td>\n",
              "      <td>1972.0</td>\n",
              "      <td>33.0</td>\n",
              "      <td>White</td>\n",
              "      <td>Speeding</td>\n",
              "      <td>Speeding</td>\n",
              "      <td>False</td>\n",
              "      <td>NaN</td>\n",
              "      <td>Citation</td>\n",
              "      <td>False</td>\n",
              "      <td>0-15 Min</td>\n",
              "      <td>False</td>\n",
              "    </tr>\n",
              "    <tr>\n",
              "      <th>3</th>\n",
              "      <td>2005-02-20</td>\n",
              "      <td>17:15</td>\n",
              "      <td>NaN</td>\n",
              "      <td>M</td>\n",
              "      <td>1986.0</td>\n",
              "      <td>19.0</td>\n",
              "      <td>White</td>\n",
              "      <td>Call for Service</td>\n",
              "      <td>Other</td>\n",
              "      <td>False</td>\n",
              "      <td>NaN</td>\n",
              "      <td>Arrest Driver</td>\n",
              "      <td>True</td>\n",
              "      <td>16-30 Min</td>\n",
              "      <td>False</td>\n",
              "    </tr>\n",
              "    <tr>\n",
              "      <th>4</th>\n",
              "      <td>2005-03-14</td>\n",
              "      <td>10:00</td>\n",
              "      <td>NaN</td>\n",
              "      <td>F</td>\n",
              "      <td>1984.0</td>\n",
              "      <td>21.0</td>\n",
              "      <td>White</td>\n",
              "      <td>Speeding</td>\n",
              "      <td>Speeding</td>\n",
              "      <td>False</td>\n",
              "      <td>NaN</td>\n",
              "      <td>Citation</td>\n",
              "      <td>False</td>\n",
              "      <td>0-15 Min</td>\n",
              "      <td>False</td>\n",
              "    </tr>\n",
              "  </tbody>\n",
              "</table>\n",
              "</div>"
            ],
            "text/plain": [
              "    stop_date stop_time  ...  stop_duration drugs_related_stop\n",
              "0  2005-01-02     01:55  ...       0-15 Min              False\n",
              "1  2005-01-18     08:15  ...       0-15 Min              False\n",
              "2  2005-01-23     23:15  ...       0-15 Min              False\n",
              "3  2005-02-20     17:15  ...      16-30 Min              False\n",
              "4  2005-03-14     10:00  ...       0-15 Min              False\n",
              "\n",
              "[5 rows x 15 columns]"
            ]
          },
          "metadata": {
            "tags": []
          },
          "execution_count": 94
        }
      ]
    },
    {
      "cell_type": "code",
      "metadata": {
        "colab": {
          "base_uri": "https://localhost:8080/"
        },
        "id": "ZDgsPOX12SfN",
        "outputId": "fa399b27-92d5-48a7-a56a-4846216eee57"
      },
      "source": [
        "# what do these numbers mean?\n",
        "ri.shape"
      ],
      "execution_count": 95,
      "outputs": [
        {
          "output_type": "execute_result",
          "data": {
            "text/plain": [
              "(91741, 15)"
            ]
          },
          "metadata": {
            "tags": []
          },
          "execution_count": 95
        }
      ]
    },
    {
      "cell_type": "code",
      "metadata": {
        "colab": {
          "base_uri": "https://localhost:8080/"
        },
        "id": "ROTITxf12SfO",
        "outputId": "06e575b3-033f-45c5-ec24-2a27c19a5055"
      },
      "source": [
        "# what do these types mean?\n",
        "ri.dtypes"
      ],
      "execution_count": 96,
      "outputs": [
        {
          "output_type": "execute_result",
          "data": {
            "text/plain": [
              "stop_date              object\n",
              "stop_time              object\n",
              "county_name           float64\n",
              "driver_gender          object\n",
              "driver_age_raw        float64\n",
              "driver_age            float64\n",
              "driver_race            object\n",
              "violation_raw          object\n",
              "violation              object\n",
              "search_conducted         bool\n",
              "search_type            object\n",
              "stop_outcome           object\n",
              "is_arrested            object\n",
              "stop_duration          object\n",
              "drugs_related_stop       bool\n",
              "dtype: object"
            ]
          },
          "metadata": {
            "tags": []
          },
          "execution_count": 96
        }
      ]
    },
    {
      "cell_type": "markdown",
      "metadata": {
        "id": "RLPbAy5r2SfP"
      },
      "source": [
        "- What does NaN mean?\n",
        "- Why might a value be missing?\n",
        "- Why mark it as NaN? Why not mark it as a 0 or an empty string or a string saying \"Unknown\"?"
      ]
    },
    {
      "cell_type": "code",
      "metadata": {
        "colab": {
          "base_uri": "https://localhost:8080/"
        },
        "id": "htlzZAKD2SfP",
        "outputId": "6c9d146e-cc55-412b-8bb6-be961ff20fb1"
      },
      "source": [
        "# what are these counts? how does this work?\n",
        "ri.isnull().sum()"
      ],
      "execution_count": 97,
      "outputs": [
        {
          "output_type": "execute_result",
          "data": {
            "text/plain": [
              "stop_date                 0\n",
              "stop_time                 0\n",
              "county_name           91741\n",
              "driver_gender          5335\n",
              "driver_age_raw         5327\n",
              "driver_age             5621\n",
              "driver_race            5333\n",
              "violation_raw          5333\n",
              "violation              5333\n",
              "search_conducted          0\n",
              "search_type           88545\n",
              "stop_outcome           5333\n",
              "is_arrested            5333\n",
              "stop_duration          5333\n",
              "drugs_related_stop        0\n",
              "dtype: int64"
            ]
          },
          "metadata": {
            "tags": []
          },
          "execution_count": 97
        }
      ]
    },
    {
      "cell_type": "code",
      "metadata": {
        "colab": {
          "base_uri": "https://localhost:8080/"
        },
        "id": "s_8dcg8R2SfQ",
        "outputId": "906bc51a-0080-4614-d293-43e57a49cb9b"
      },
      "source": [
        "(True == 1) and (False == 0)"
      ],
      "execution_count": 98,
      "outputs": [
        {
          "output_type": "execute_result",
          "data": {
            "text/plain": [
              "True"
            ]
          },
          "metadata": {
            "tags": []
          },
          "execution_count": 98
        }
      ]
    },
    {
      "cell_type": "markdown",
      "metadata": {
        "id": "q_vEJegt2SfR"
      },
      "source": [
        "## 1. Remove the column that only contains missing values"
      ]
    },
    {
      "cell_type": "code",
      "metadata": {
        "id": "Ah6JHZJv2SfS"
      },
      "source": [
        "# axis=1 also works, inplace is False by default, inplace=True avoids assignment statement\n",
        "ri.drop('county_name', axis='columns', inplace=True)"
      ],
      "execution_count": 99,
      "outputs": []
    },
    {
      "cell_type": "code",
      "metadata": {
        "colab": {
          "base_uri": "https://localhost:8080/"
        },
        "id": "JEjDWhkm2SfT",
        "outputId": "b94c44ff-29fd-4e1e-ca60-d13520d15a87"
      },
      "source": [
        "ri.shape"
      ],
      "execution_count": 100,
      "outputs": [
        {
          "output_type": "execute_result",
          "data": {
            "text/plain": [
              "(91741, 14)"
            ]
          },
          "metadata": {
            "tags": []
          },
          "execution_count": 100
        }
      ]
    },
    {
      "cell_type": "code",
      "metadata": {
        "scrolled": true,
        "colab": {
          "base_uri": "https://localhost:8080/"
        },
        "id": "B7EZT8a22SfU",
        "outputId": "c238d20c-4e5d-4549-8ea7-aff2e2c85194"
      },
      "source": [
        "ri.columns"
      ],
      "execution_count": 101,
      "outputs": [
        {
          "output_type": "execute_result",
          "data": {
            "text/plain": [
              "Index(['stop_date', 'stop_time', 'driver_gender', 'driver_age_raw',\n",
              "       'driver_age', 'driver_race', 'violation_raw', 'violation',\n",
              "       'search_conducted', 'search_type', 'stop_outcome', 'is_arrested',\n",
              "       'stop_duration', 'drugs_related_stop'],\n",
              "      dtype='object')"
            ]
          },
          "metadata": {
            "tags": []
          },
          "execution_count": 101
        }
      ]
    },
    {
      "cell_type": "code",
      "metadata": {
        "colab": {
          "base_uri": "https://localhost:8080/"
        },
        "id": "fJ-bS2HZ2SfV",
        "outputId": "f5742650-cb80-4f63-8c5a-ae657a8b3263"
      },
      "source": [
        "# alternative method\n",
        "ri.dropna(axis='columns', how='all').shape"
      ],
      "execution_count": 102,
      "outputs": [
        {
          "output_type": "execute_result",
          "data": {
            "text/plain": [
              "(91741, 14)"
            ]
          },
          "metadata": {
            "tags": []
          },
          "execution_count": 102
        }
      ]
    },
    {
      "cell_type": "markdown",
      "metadata": {
        "id": "ThjUf6Sn2SfV"
      },
      "source": [
        "Lessons:\n",
        "\n",
        "- Pay attention to default arguments\n",
        "- Check your work\n",
        "- There is more than one way to do everything in pandas"
      ]
    },
    {
      "cell_type": "markdown",
      "metadata": {
        "id": "YcznQ6YJ2SfW"
      },
      "source": [
        "## 2. Do men or women speed more often? "
      ]
    },
    {
      "cell_type": "code",
      "metadata": {
        "colab": {
          "base_uri": "https://localhost:8080/"
        },
        "id": "LHo2nl5M2SfX",
        "outputId": "162f6688-2a7c-4a8f-9230-6cbc68174209"
      },
      "source": [
        "# when someone is stopped for speeding, how often is it a man or woman?\n",
        "ri[ri.violation == 'Speeding'].driver_gender.value_counts(normalize=True)"
      ],
      "execution_count": 103,
      "outputs": [
        {
          "output_type": "execute_result",
          "data": {
            "text/plain": [
              "M    0.680527\n",
              "F    0.319473\n",
              "Name: driver_gender, dtype: float64"
            ]
          },
          "metadata": {
            "tags": []
          },
          "execution_count": 103
        }
      ]
    },
    {
      "cell_type": "code",
      "metadata": {
        "colab": {
          "base_uri": "https://localhost:8080/"
        },
        "id": "CPfCKcSW2SfY",
        "outputId": "eb74f437-3a9c-4a56-d89b-2b07bd4df737"
      },
      "source": [
        "# alternative\n",
        "ri.loc[ri.violation == 'Speeding', 'driver_gender'].value_counts(normalize=True)"
      ],
      "execution_count": 104,
      "outputs": [
        {
          "output_type": "execute_result",
          "data": {
            "text/plain": [
              "M    0.680527\n",
              "F    0.319473\n",
              "Name: driver_gender, dtype: float64"
            ]
          },
          "metadata": {
            "tags": []
          },
          "execution_count": 104
        }
      ]
    },
    {
      "cell_type": "code",
      "metadata": {
        "colab": {
          "base_uri": "https://localhost:8080/"
        },
        "id": "2O8_tCsg2SfZ",
        "outputId": "58f37318-af02-41a5-e09c-4cdf1c5e33f6"
      },
      "source": [
        "# when a man is pulled over, how often is it for speeding?\n",
        "ri[ri.driver_gender == 'M'].violation.value_counts(normalize=True)"
      ],
      "execution_count": 105,
      "outputs": [
        {
          "output_type": "execute_result",
          "data": {
            "text/plain": [
              "Speeding               0.524350\n",
              "Moving violation       0.207012\n",
              "Equipment              0.135671\n",
              "Other                  0.057668\n",
              "Registration/plates    0.038461\n",
              "Seat belt              0.036839\n",
              "Name: violation, dtype: float64"
            ]
          },
          "metadata": {
            "tags": []
          },
          "execution_count": 105
        }
      ]
    },
    {
      "cell_type": "code",
      "metadata": {
        "colab": {
          "base_uri": "https://localhost:8080/"
        },
        "id": "aCqfBSVV2Sfa",
        "outputId": "8d64f30a-e76c-4dbb-fbe1-433057da49d1"
      },
      "source": [
        "# repeat for women\n",
        "ri[ri.driver_gender == 'F'].violation.value_counts(normalize=True)"
      ],
      "execution_count": 106,
      "outputs": [
        {
          "output_type": "execute_result",
          "data": {
            "text/plain": [
              "Speeding               0.658500\n",
              "Moving violation       0.136277\n",
              "Equipment              0.105780\n",
              "Registration/plates    0.043086\n",
              "Other                  0.029348\n",
              "Seat belt              0.027009\n",
              "Name: violation, dtype: float64"
            ]
          },
          "metadata": {
            "tags": []
          },
          "execution_count": 106
        }
      ]
    },
    {
      "cell_type": "code",
      "metadata": {
        "colab": {
          "base_uri": "https://localhost:8080/"
        },
        "id": "h31GN-vG2Sfa",
        "outputId": "8c1e8753-54c7-4288-9473-8d56a37c4faf"
      },
      "source": [
        "# combines the two lines above\n",
        "ri.groupby('driver_gender').violation.value_counts(normalize=True)"
      ],
      "execution_count": 107,
      "outputs": [
        {
          "output_type": "execute_result",
          "data": {
            "text/plain": [
              "driver_gender  violation          \n",
              "F              Speeding               0.658500\n",
              "               Moving violation       0.136277\n",
              "               Equipment              0.105780\n",
              "               Registration/plates    0.043086\n",
              "               Other                  0.029348\n",
              "               Seat belt              0.027009\n",
              "M              Speeding               0.524350\n",
              "               Moving violation       0.207012\n",
              "               Equipment              0.135671\n",
              "               Other                  0.057668\n",
              "               Registration/plates    0.038461\n",
              "               Seat belt              0.036839\n",
              "Name: violation, dtype: float64"
            ]
          },
          "metadata": {
            "tags": []
          },
          "execution_count": 107
        }
      ]
    },
    {
      "cell_type": "markdown",
      "metadata": {
        "id": "cXcYHfZ72Sfb"
      },
      "source": [
        "What are some relevant facts that we don't know?\n",
        "\n",
        "Lessons:\n",
        "\n",
        "- There is more than one way to understand a question"
      ]
    },
    {
      "cell_type": "markdown",
      "metadata": {
        "id": "UAzUX1Pf2Sfc"
      },
      "source": [
        "## 3. Does gender affect who gets searched during a stop? )"
      ]
    },
    {
      "cell_type": "code",
      "metadata": {
        "colab": {
          "base_uri": "https://localhost:8080/"
        },
        "id": "351QC8Ts2Sfc",
        "outputId": "97edaf35-9930-4c3d-ac64-a2edf7a052db"
      },
      "source": [
        "# ignore gender for the moment\n",
        "ri.search_conducted.value_counts(normalize=True)"
      ],
      "execution_count": 108,
      "outputs": [
        {
          "output_type": "execute_result",
          "data": {
            "text/plain": [
              "False    0.965163\n",
              "True     0.034837\n",
              "Name: search_conducted, dtype: float64"
            ]
          },
          "metadata": {
            "tags": []
          },
          "execution_count": 108
        }
      ]
    },
    {
      "cell_type": "code",
      "metadata": {
        "colab": {
          "base_uri": "https://localhost:8080/"
        },
        "id": "MAsEW-YR2Sfd",
        "outputId": "01e47360-ca50-4ffc-942d-845e37c7c32a"
      },
      "source": [
        "# how does this work?\n",
        "ri.search_conducted.mean()"
      ],
      "execution_count": 109,
      "outputs": [
        {
          "output_type": "execute_result",
          "data": {
            "text/plain": [
              "0.03483720473942948"
            ]
          },
          "metadata": {
            "tags": []
          },
          "execution_count": 109
        }
      ]
    },
    {
      "cell_type": "code",
      "metadata": {
        "colab": {
          "base_uri": "https://localhost:8080/"
        },
        "id": "CyVeMUrc2Sfe",
        "outputId": "a9ebd88d-19f1-40d6-ca8f-261efebc3944"
      },
      "source": [
        "# search rate by gender\n",
        "ri.groupby('driver_gender').search_conducted.mean()"
      ],
      "execution_count": 110,
      "outputs": [
        {
          "output_type": "execute_result",
          "data": {
            "text/plain": [
              "driver_gender\n",
              "F    0.020033\n",
              "M    0.043326\n",
              "Name: search_conducted, dtype: float64"
            ]
          },
          "metadata": {
            "tags": []
          },
          "execution_count": 110
        }
      ]
    },
    {
      "cell_type": "markdown",
      "metadata": {
        "id": "lIniTs5E2Sff"
      },
      "source": [
        "Does this prove that gender affects who gets searched?"
      ]
    },
    {
      "cell_type": "code",
      "metadata": {
        "colab": {
          "base_uri": "https://localhost:8080/"
        },
        "id": "RfoI_Hfe2Sff",
        "outputId": "70da55ca-988d-4f55-fa97-4d9b9f582862"
      },
      "source": [
        "# include a second factor\n",
        "ri.groupby(['violation', 'driver_gender']).search_conducted.mean()"
      ],
      "execution_count": 111,
      "outputs": [
        {
          "output_type": "execute_result",
          "data": {
            "text/plain": [
              "violation            driver_gender\n",
              "Equipment            F                0.042622\n",
              "                     M                0.070081\n",
              "Moving violation     F                0.036205\n",
              "                     M                0.059831\n",
              "Other                F                0.056522\n",
              "                     M                0.047146\n",
              "Registration/plates  F                0.066140\n",
              "                     M                0.110376\n",
              "Seat belt            F                0.012598\n",
              "                     M                0.037980\n",
              "Speeding             F                0.008720\n",
              "                     M                0.024925\n",
              "Name: search_conducted, dtype: float64"
            ]
          },
          "metadata": {
            "tags": []
          },
          "execution_count": 111
        }
      ]
    },
    {
      "cell_type": "markdown",
      "metadata": {
        "id": "ou5XZkMo2Sfg"
      },
      "source": [
        "Does this prove causation?\n",
        "\n",
        "Lessons:\n",
        "\n",
        "- Causation is difficult to conclude, so focus on relationships\n",
        "- Include all relevant factors when studying a relationship"
      ]
    },
    {
      "cell_type": "markdown",
      "metadata": {
        "id": "K3ylN9t_2Sfh"
      },
      "source": [
        "## 4. Why is search_type missing so often? "
      ]
    },
    {
      "cell_type": "code",
      "metadata": {
        "colab": {
          "base_uri": "https://localhost:8080/"
        },
        "id": "SU4iyJvx2Sfh",
        "outputId": "6264b150-0d09-4eef-a8b3-65e3620bbb6f"
      },
      "source": [
        "ri.isnull().sum()"
      ],
      "execution_count": 112,
      "outputs": [
        {
          "output_type": "execute_result",
          "data": {
            "text/plain": [
              "stop_date                 0\n",
              "stop_time                 0\n",
              "driver_gender          5335\n",
              "driver_age_raw         5327\n",
              "driver_age             5621\n",
              "driver_race            5333\n",
              "violation_raw          5333\n",
              "violation              5333\n",
              "search_conducted          0\n",
              "search_type           88545\n",
              "stop_outcome           5333\n",
              "is_arrested            5333\n",
              "stop_duration          5333\n",
              "drugs_related_stop        0\n",
              "dtype: int64"
            ]
          },
          "metadata": {
            "tags": []
          },
          "execution_count": 112
        }
      ]
    },
    {
      "cell_type": "code",
      "metadata": {
        "colab": {
          "base_uri": "https://localhost:8080/"
        },
        "id": "WUfgKiYk2Sfi",
        "outputId": "8be7cab3-1e62-4b6b-a5ae-1ead51ed25eb"
      },
      "source": [
        "# maybe search_type is missing any time search_conducted is False?\n",
        "ri.search_conducted.value_counts()"
      ],
      "execution_count": 113,
      "outputs": [
        {
          "output_type": "execute_result",
          "data": {
            "text/plain": [
              "False    88545\n",
              "True      3196\n",
              "Name: search_conducted, dtype: int64"
            ]
          },
          "metadata": {
            "tags": []
          },
          "execution_count": 113
        }
      ]
    },
    {
      "cell_type": "code",
      "metadata": {
        "colab": {
          "base_uri": "https://localhost:8080/"
        },
        "id": "c4RQmODX2Sfj",
        "outputId": "ee421aab-a1bd-4bd7-c1e7-255b3778f8e5"
      },
      "source": [
        "# test that theory, why is the Series empty?\n",
        "ri[ri.search_conducted == False].search_type.value_counts()"
      ],
      "execution_count": 114,
      "outputs": [
        {
          "output_type": "execute_result",
          "data": {
            "text/plain": [
              "Series([], Name: search_type, dtype: int64)"
            ]
          },
          "metadata": {
            "tags": []
          },
          "execution_count": 114
        }
      ]
    },
    {
      "cell_type": "code",
      "metadata": {
        "colab": {
          "base_uri": "https://localhost:8080/"
        },
        "id": "DqbSuVao2Sfj",
        "outputId": "e94aae07-8ea2-4d44-9d79-a4e77ecae327"
      },
      "source": [
        "# value_counts ignores missing values by default\n",
        "ri[ri.search_conducted == False].search_type.value_counts(dropna=False)"
      ],
      "execution_count": 115,
      "outputs": [
        {
          "output_type": "execute_result",
          "data": {
            "text/plain": [
              "NaN    88545\n",
              "Name: search_type, dtype: int64"
            ]
          },
          "metadata": {
            "tags": []
          },
          "execution_count": 115
        }
      ]
    },
    {
      "cell_type": "code",
      "metadata": {
        "colab": {
          "base_uri": "https://localhost:8080/"
        },
        "id": "3wZcu-K42Sfk",
        "outputId": "1c19b565-c466-41e9-be9d-16d7b41f2c73"
      },
      "source": [
        "# when search_conducted is True, search_type is never missing\n",
        "ri[ri.search_conducted == True].search_type.value_counts(dropna=False)"
      ],
      "execution_count": 116,
      "outputs": [
        {
          "output_type": "execute_result",
          "data": {
            "text/plain": [
              "Incident to Arrest                                          1219\n",
              "Probable Cause                                               891\n",
              "Inventory                                                    220\n",
              "Reasonable Suspicion                                         197\n",
              "Protective Frisk                                             161\n",
              "Incident to Arrest,Inventory                                 129\n",
              "Incident to Arrest,Probable Cause                            106\n",
              "Probable Cause,Reasonable Suspicion                           75\n",
              "Incident to Arrest,Inventory,Probable Cause                   34\n",
              "Incident to Arrest,Protective Frisk                           33\n",
              "Probable Cause,Protective Frisk                               33\n",
              "Inventory,Probable Cause                                      22\n",
              "Incident to Arrest,Reasonable Suspicion                       13\n",
              "Incident to Arrest,Inventory,Protective Frisk                 11\n",
              "Protective Frisk,Reasonable Suspicion                         11\n",
              "Inventory,Protective Frisk                                    11\n",
              "Incident to Arrest,Probable Cause,Protective Frisk            10\n",
              "Incident to Arrest,Probable Cause,Reasonable Suspicion         6\n",
              "Incident to Arrest,Inventory,Reasonable Suspicion              4\n",
              "Inventory,Reasonable Suspicion                                 4\n",
              "Inventory,Probable Cause,Protective Frisk                      2\n",
              "Inventory,Probable Cause,Reasonable Suspicion                  2\n",
              "Probable Cause,Protective Frisk,Reasonable Suspicion           1\n",
              "Incident to Arrest,Protective Frisk,Reasonable Suspicion       1\n",
              "Name: search_type, dtype: int64"
            ]
          },
          "metadata": {
            "tags": []
          },
          "execution_count": 116
        }
      ]
    },
    {
      "cell_type": "code",
      "metadata": {
        "colab": {
          "base_uri": "https://localhost:8080/"
        },
        "id": "pGuWJUBg2Sfk",
        "outputId": "fae97f53-1443-46b1-c740-92e5e66ba953"
      },
      "source": [
        "# alternative\n",
        "ri[ri.search_conducted == True].search_type.isnull().sum()"
      ],
      "execution_count": 117,
      "outputs": [
        {
          "output_type": "execute_result",
          "data": {
            "text/plain": [
              "0"
            ]
          },
          "metadata": {
            "tags": []
          },
          "execution_count": 117
        }
      ]
    },
    {
      "cell_type": "markdown",
      "metadata": {
        "id": "Em4tZ6GR2Sfl"
      },
      "source": [
        "Lessons:\n",
        "\n",
        "- Verify your assumptions about your data\n",
        "- pandas functions ignore missing values by default"
      ]
    },
    {
      "cell_type": "markdown",
      "metadata": {
        "id": "MVvBEset2Sfl"
      },
      "source": [
        "## 5. During a search, how often is the driver frisked? "
      ]
    },
    {
      "cell_type": "code",
      "metadata": {
        "colab": {
          "base_uri": "https://localhost:8080/"
        },
        "id": "3Ofdtfgm2Sfm",
        "outputId": "8d5e1ec5-548b-41dc-8d36-891e896bac3a"
      },
      "source": [
        "# multiple types are separated by commas\n",
        "ri.search_type.value_counts(dropna=False)"
      ],
      "execution_count": 118,
      "outputs": [
        {
          "output_type": "execute_result",
          "data": {
            "text/plain": [
              "NaN                                                         88545\n",
              "Incident to Arrest                                           1219\n",
              "Probable Cause                                                891\n",
              "Inventory                                                     220\n",
              "Reasonable Suspicion                                          197\n",
              "Protective Frisk                                              161\n",
              "Incident to Arrest,Inventory                                  129\n",
              "Incident to Arrest,Probable Cause                             106\n",
              "Probable Cause,Reasonable Suspicion                            75\n",
              "Incident to Arrest,Inventory,Probable Cause                    34\n",
              "Probable Cause,Protective Frisk                                33\n",
              "Incident to Arrest,Protective Frisk                            33\n",
              "Inventory,Probable Cause                                       22\n",
              "Incident to Arrest,Reasonable Suspicion                        13\n",
              "Protective Frisk,Reasonable Suspicion                          11\n",
              "Incident to Arrest,Inventory,Protective Frisk                  11\n",
              "Inventory,Protective Frisk                                     11\n",
              "Incident to Arrest,Probable Cause,Protective Frisk             10\n",
              "Incident to Arrest,Probable Cause,Reasonable Suspicion          6\n",
              "Inventory,Reasonable Suspicion                                  4\n",
              "Incident to Arrest,Inventory,Reasonable Suspicion               4\n",
              "Inventory,Probable Cause,Protective Frisk                       2\n",
              "Inventory,Probable Cause,Reasonable Suspicion                   2\n",
              "Probable Cause,Protective Frisk,Reasonable Suspicion            1\n",
              "Incident to Arrest,Protective Frisk,Reasonable Suspicion        1\n",
              "Name: search_type, dtype: int64"
            ]
          },
          "metadata": {
            "tags": []
          },
          "execution_count": 118
        }
      ]
    },
    {
      "cell_type": "code",
      "metadata": {
        "id": "Lsk3A5Bj2Sfn"
      },
      "source": [
        "# use bracket notation when creating a column\n",
        "ri['frisk'] = ri.search_type == 'Protective Frisk'"
      ],
      "execution_count": 119,
      "outputs": []
    },
    {
      "cell_type": "code",
      "metadata": {
        "colab": {
          "base_uri": "https://localhost:8080/"
        },
        "id": "vdCqp-yM2Sfn",
        "outputId": "9c9f1f06-0748-4ce3-aefe-5e05820e4e63"
      },
      "source": [
        "ri.frisk.dtype"
      ],
      "execution_count": 120,
      "outputs": [
        {
          "output_type": "execute_result",
          "data": {
            "text/plain": [
              "dtype('bool')"
            ]
          },
          "metadata": {
            "tags": []
          },
          "execution_count": 120
        }
      ]
    },
    {
      "cell_type": "code",
      "metadata": {
        "colab": {
          "base_uri": "https://localhost:8080/"
        },
        "id": "IiFbzGcU2Sfo",
        "outputId": "f8745ce1-13bf-4cfa-b08f-36bfbb730bf5"
      },
      "source": [
        "# includes exact matches only\n",
        "ri.frisk.sum()"
      ],
      "execution_count": 121,
      "outputs": [
        {
          "output_type": "execute_result",
          "data": {
            "text/plain": [
              "161"
            ]
          },
          "metadata": {
            "tags": []
          },
          "execution_count": 121
        }
      ]
    },
    {
      "cell_type": "code",
      "metadata": {
        "colab": {
          "base_uri": "https://localhost:8080/"
        },
        "id": "jk2dP7Q-2Sfp",
        "outputId": "2507647d-d962-43f3-c6f3-237b8537440e"
      },
      "source": [
        "# is this the answer?\n",
        "ri.frisk.mean()"
      ],
      "execution_count": 122,
      "outputs": [
        {
          "output_type": "execute_result",
          "data": {
            "text/plain": [
              "0.0017549405391264537"
            ]
          },
          "metadata": {
            "tags": []
          },
          "execution_count": 122
        }
      ]
    },
    {
      "cell_type": "code",
      "metadata": {
        "colab": {
          "base_uri": "https://localhost:8080/"
        },
        "id": "iqti6qua2Sfp",
        "outputId": "4d95cf48-e953-4675-ea32-398c915842ee"
      },
      "source": [
        "# uses the wrong denominator (includes stops that didn't involve a search)\n",
        "ri.frisk.value_counts()"
      ],
      "execution_count": 123,
      "outputs": [
        {
          "output_type": "execute_result",
          "data": {
            "text/plain": [
              "False    91580\n",
              "True       161\n",
              "Name: frisk, dtype: int64"
            ]
          },
          "metadata": {
            "tags": []
          },
          "execution_count": 123
        }
      ]
    },
    {
      "cell_type": "code",
      "metadata": {
        "colab": {
          "base_uri": "https://localhost:8080/"
        },
        "id": "XJQcbU6z2Sfq",
        "outputId": "c3055a76-8425-4156-f3c1-d22250f53274"
      },
      "source": [
        "161 / (91580 + 161)"
      ],
      "execution_count": 124,
      "outputs": [
        {
          "output_type": "execute_result",
          "data": {
            "text/plain": [
              "0.0017549405391264537"
            ]
          },
          "metadata": {
            "tags": []
          },
          "execution_count": 124
        }
      ]
    },
    {
      "cell_type": "code",
      "metadata": {
        "id": "QjkJ6Z0P2Sfq"
      },
      "source": [
        "# includes partial matches\n",
        "ri['frisk'] = ri.search_type.str.contains('Protective Frisk')"
      ],
      "execution_count": 125,
      "outputs": []
    },
    {
      "cell_type": "code",
      "metadata": {
        "colab": {
          "base_uri": "https://localhost:8080/"
        },
        "id": "SUW1ZueW2Sfq",
        "outputId": "5604b31d-c5db-4eae-eb44-3b8e006dc6da"
      },
      "source": [
        "# seems about right\n",
        "ri.frisk.sum()"
      ],
      "execution_count": 126,
      "outputs": [
        {
          "output_type": "execute_result",
          "data": {
            "text/plain": [
              "274"
            ]
          },
          "metadata": {
            "tags": []
          },
          "execution_count": 126
        }
      ]
    },
    {
      "cell_type": "code",
      "metadata": {
        "colab": {
          "base_uri": "https://localhost:8080/"
        },
        "id": "sUtE9_fp2Sfr",
        "outputId": "ef4aeac0-e000-4799-e8f6-ec257cdad14d"
      },
      "source": [
        "# frisk rate during a search\n",
        "ri.frisk.mean()"
      ],
      "execution_count": 127,
      "outputs": [
        {
          "output_type": "execute_result",
          "data": {
            "text/plain": [
              "0.08573216520650813"
            ]
          },
          "metadata": {
            "tags": []
          },
          "execution_count": 127
        }
      ]
    },
    {
      "cell_type": "code",
      "metadata": {
        "colab": {
          "base_uri": "https://localhost:8080/"
        },
        "id": "gCUBc55Z2Sfr",
        "outputId": "4b16129a-afdf-4ad0-9805-64b94adcea19"
      },
      "source": [
        "# str.contains preserved missing values from search_type\n",
        "ri.frisk.value_counts(dropna=False)"
      ],
      "execution_count": 128,
      "outputs": [
        {
          "output_type": "execute_result",
          "data": {
            "text/plain": [
              "NaN      88545\n",
              "False     2922\n",
              "True       274\n",
              "Name: frisk, dtype: int64"
            ]
          },
          "metadata": {
            "tags": []
          },
          "execution_count": 128
        }
      ]
    },
    {
      "cell_type": "code",
      "metadata": {
        "colab": {
          "base_uri": "https://localhost:8080/"
        },
        "id": "D6zY1JUa2Sfs",
        "outputId": "51ac7073-7a5f-443d-b22c-cdeadc028d9e"
      },
      "source": [
        "# excludes stops that didn't involve a search\n",
        "274 / (2922 + 274)"
      ],
      "execution_count": 129,
      "outputs": [
        {
          "output_type": "execute_result",
          "data": {
            "text/plain": [
              "0.08573216520650813"
            ]
          },
          "metadata": {
            "tags": []
          },
          "execution_count": 129
        }
      ]
    },
    {
      "cell_type": "markdown",
      "metadata": {
        "id": "kfF65lLV2Sft"
      },
      "source": [
        "Lessons:\n",
        "\n",
        "- Use string methods to find partial matches\n",
        "- Use the correct denominator when calculating rates\n",
        "- pandas calculations ignore missing values\n",
        "- Apply the \"smell test\" to your results"
      ]
    },
    {
      "cell_type": "markdown",
      "metadata": {
        "id": "Bu5OiBnv2Sft"
      },
      "source": [
        "## 6. Which year had the least number of stops? "
      ]
    },
    {
      "cell_type": "code",
      "metadata": {
        "colab": {
          "base_uri": "https://localhost:8080/"
        },
        "id": "7ozSU3nz2Sfu",
        "outputId": "ffde0030-f240-42a0-cb3b-e204e88c842a"
      },
      "source": [
        "# this works, but there's a better way\n",
        "ri.stop_date.str.slice(0, 4).value_counts()"
      ],
      "execution_count": 130,
      "outputs": [
        {
          "output_type": "execute_result",
          "data": {
            "text/plain": [
              "2012    10970\n",
              "2006    10639\n",
              "2007     9476\n",
              "2014     9228\n",
              "2008     8752\n",
              "2015     8599\n",
              "2011     8126\n",
              "2013     7924\n",
              "2009     7908\n",
              "2010     7561\n",
              "2005     2558\n",
              "Name: stop_date, dtype: int64"
            ]
          },
          "metadata": {
            "tags": []
          },
          "execution_count": 130
        }
      ]
    },
    {
      "cell_type": "code",
      "metadata": {
        "id": "q8QLMIuC2Sfu"
      },
      "source": [
        "# make sure you create this column\n",
        "combined = ri.stop_date.str.cat(ri.stop_time, sep=' ')\n",
        "ri['stop_datetime'] = pd.to_datetime(combined)"
      ],
      "execution_count": 131,
      "outputs": []
    },
    {
      "cell_type": "code",
      "metadata": {
        "colab": {
          "base_uri": "https://localhost:8080/"
        },
        "id": "m7ZpAF4Z2Sfv",
        "outputId": "629d50c2-4fbf-4e46-920f-49d04f56c62d"
      },
      "source": [
        "ri.dtypes"
      ],
      "execution_count": 132,
      "outputs": [
        {
          "output_type": "execute_result",
          "data": {
            "text/plain": [
              "stop_date                     object\n",
              "stop_time                     object\n",
              "driver_gender                 object\n",
              "driver_age_raw               float64\n",
              "driver_age                   float64\n",
              "driver_race                   object\n",
              "violation_raw                 object\n",
              "violation                     object\n",
              "search_conducted                bool\n",
              "search_type                   object\n",
              "stop_outcome                  object\n",
              "is_arrested                   object\n",
              "stop_duration                 object\n",
              "drugs_related_stop              bool\n",
              "frisk                         object\n",
              "stop_datetime         datetime64[ns]\n",
              "dtype: object"
            ]
          },
          "metadata": {
            "tags": []
          },
          "execution_count": 132
        }
      ]
    },
    {
      "cell_type": "code",
      "metadata": {
        "colab": {
          "base_uri": "https://localhost:8080/"
        },
        "id": "BgzA0u8L2Sfv",
        "outputId": "ffbd8546-4031-4cff-c658-b702929ebb0f"
      },
      "source": [
        "# why is 2005 so much smaller?\n",
        "ri.stop_datetime.dt.year.value_counts()"
      ],
      "execution_count": 133,
      "outputs": [
        {
          "output_type": "execute_result",
          "data": {
            "text/plain": [
              "2012    10970\n",
              "2006    10639\n",
              "2007     9476\n",
              "2014     9228\n",
              "2008     8752\n",
              "2015     8599\n",
              "2011     8126\n",
              "2013     7924\n",
              "2009     7908\n",
              "2010     7561\n",
              "2005     2558\n",
              "Name: stop_datetime, dtype: int64"
            ]
          },
          "metadata": {
            "tags": []
          },
          "execution_count": 133
        }
      ]
    },
    {
      "cell_type": "markdown",
      "metadata": {
        "id": "hg8p3MrV2Sfw"
      },
      "source": [
        "Lessons:\n",
        "\n",
        "- Consider removing chunks of data that may be biased\n",
        "- Use the datetime data type for dates and times"
      ]
    },
    {
      "cell_type": "markdown",
      "metadata": {
        "id": "Z4VI-Z5a2Sfw"
      },
      "source": [
        "## 7. How does drug activity change by time of day? "
      ]
    },
    {
      "cell_type": "code",
      "metadata": {
        "colab": {
          "base_uri": "https://localhost:8080/"
        },
        "id": "MCRdLQPc2Sfy",
        "outputId": "27e036e5-d57f-4c68-e3a5-54b7aef34e72"
      },
      "source": [
        "ri.drugs_related_stop.dtype"
      ],
      "execution_count": 134,
      "outputs": [
        {
          "output_type": "execute_result",
          "data": {
            "text/plain": [
              "dtype('bool')"
            ]
          },
          "metadata": {
            "tags": []
          },
          "execution_count": 134
        }
      ]
    },
    {
      "cell_type": "code",
      "metadata": {
        "colab": {
          "base_uri": "https://localhost:8080/"
        },
        "id": "YwLMLey-2Sfy",
        "outputId": "51b46614-e85c-43f3-ded9-58efd5cb44c6"
      },
      "source": [
        "# baseline rate\n",
        "ri.drugs_related_stop.mean()"
      ],
      "execution_count": 135,
      "outputs": [
        {
          "output_type": "execute_result",
          "data": {
            "text/plain": [
              "0.008883705213590434"
            ]
          },
          "metadata": {
            "tags": []
          },
          "execution_count": 135
        }
      ]
    },
    {
      "cell_type": "code",
      "metadata": {
        "colab": {
          "base_uri": "https://localhost:8080/"
        },
        "id": "Eq2VCcj32Sfz",
        "outputId": "b3fd18e8-de92-44e0-8ac1-b381e2ad542d"
      },
      "source": [
        "# can't groupby 'hour' unless you create it as a column\n",
        "ri.groupby(ri.stop_datetime.dt.hour).drugs_related_stop.mean()"
      ],
      "execution_count": 136,
      "outputs": [
        {
          "output_type": "execute_result",
          "data": {
            "text/plain": [
              "stop_datetime\n",
              "0     0.019728\n",
              "1     0.013507\n",
              "2     0.015462\n",
              "3     0.017065\n",
              "4     0.011811\n",
              "5     0.004762\n",
              "6     0.003040\n",
              "7     0.003281\n",
              "8     0.002687\n",
              "9     0.006288\n",
              "10    0.005714\n",
              "11    0.006976\n",
              "12    0.004467\n",
              "13    0.010326\n",
              "14    0.007810\n",
              "15    0.006416\n",
              "16    0.005723\n",
              "17    0.005517\n",
              "18    0.010148\n",
              "19    0.011596\n",
              "20    0.008084\n",
              "21    0.013342\n",
              "22    0.013533\n",
              "23    0.016344\n",
              "Name: drugs_related_stop, dtype: float64"
            ]
          },
          "metadata": {
            "tags": []
          },
          "execution_count": 136
        }
      ]
    },
    {
      "cell_type": "code",
      "metadata": {
        "colab": {
          "base_uri": "https://localhost:8080/",
          "height": 296
        },
        "id": "vMk4cpM72Sf0",
        "outputId": "1e545cd9-63d3-497e-c801-7e8e6fe84958"
      },
      "source": [
        "# line plot by default (for a Series)\n",
        "ri.groupby(ri.stop_datetime.dt.hour).drugs_related_stop.mean().plot()"
      ],
      "execution_count": 137,
      "outputs": [
        {
          "output_type": "execute_result",
          "data": {
            "text/plain": [
              "<matplotlib.axes._subplots.AxesSubplot at 0x7f0fc4793d50>"
            ]
          },
          "metadata": {
            "tags": []
          },
          "execution_count": 137
        },
        {
          "output_type": "display_data",
          "data": {
            "image/png": "[encoded data removed]",
            "text/plain": [
              "<Figure size 432x288 with 1 Axes>"
            ]
          },
          "metadata": {
            "tags": [],
            "needs_background": "light"
          }
        }
      ]
    },
    {
      "cell_type": "code",
      "metadata": {
        "colab": {
          "base_uri": "https://localhost:8080/",
          "height": 296
        },
        "id": "pXu1blD02Sf1",
        "outputId": "a2f05b65-0c58-4828-8029-65a015c458e7"
      },
      "source": [
        "# alternative: count drug-related stops by hour\n",
        "ri.groupby(ri.stop_datetime.dt.hour).drugs_related_stop.sum().plot()"
      ],
      "execution_count": 138,
      "outputs": [
        {
          "output_type": "execute_result",
          "data": {
            "text/plain": [
              "<matplotlib.axes._subplots.AxesSubplot at 0x7f0fc4d8add0>"
            ]
          },
          "metadata": {
            "tags": []
          },
          "execution_count": 138
        },
        {
          "output_type": "display_data",
          "data": {
            "image/png": "[encoded data removed]",
            "text/plain": [
              "<Figure size 432x288 with 1 Axes>"
            ]
          },
          "metadata": {
            "tags": [],
            "needs_background": "light"
          }
        }
      ]
    },
    {
      "cell_type": "markdown",
      "metadata": {
        "id": "rRjrYbcl2Sf2"
      },
      "source": [
        "Lessons:\n",
        "\n",
        "- Use plots to help you understand trends\n",
        "- Create exploratory plots using pandas one-liners"
      ]
    },
    {
      "cell_type": "markdown",
      "metadata": {
        "id": "yldzw0HB2Sf2"
      },
      "source": [
        "## 8. Do most stops occur at night? "
      ]
    },
    {
      "cell_type": "code",
      "metadata": {
        "colab": {
          "base_uri": "https://localhost:8080/"
        },
        "id": "nDLkUfhm2Sf3",
        "outputId": "bcbf918d-2912-4291-e363-4cba2329ec7a"
      },
      "source": [
        "ri.stop_datetime.dt.hour.value_counts()"
      ],
      "execution_count": 139,
      "outputs": [
        {
          "output_type": "execute_result",
          "data": {
            "text/plain": [
              "10    7350\n",
              "9     6838\n",
              "11    5877\n",
              "14    5634\n",
              "23    5629\n",
              "0     5221\n",
              "8     5210\n",
              "13    4842\n",
              "15    4832\n",
              "7     4572\n",
              "1     4442\n",
              "16    3844\n",
              "12    3582\n",
              "22    3473\n",
              "20    3340\n",
              "6     3290\n",
              "2     2975\n",
              "17    2900\n",
              "19    2587\n",
              "18    2168\n",
              "21    1499\n",
              "3     1172\n",
              "4      254\n",
              "5      210\n",
              "Name: stop_datetime, dtype: int64"
            ]
          },
          "metadata": {
            "tags": []
          },
          "execution_count": 139
        }
      ]
    },
    {
      "cell_type": "code",
      "metadata": {
        "colab": {
          "base_uri": "https://localhost:8080/",
          "height": 281
        },
        "id": "l69sl0ML2Sf4",
        "outputId": "82fa87b8-f10d-4844-bc49-1ac01dd3633d"
      },
      "source": [
        "ri.stop_datetime.dt.hour.value_counts().plot()"
      ],
      "execution_count": 140,
      "outputs": [
        {
          "output_type": "execute_result",
          "data": {
            "text/plain": [
              "<matplotlib.axes._subplots.AxesSubplot at 0x7f0fc4d10510>"
            ]
          },
          "metadata": {
            "tags": []
          },
          "execution_count": 140
        },
        {
          "output_type": "display_data",
          "data": {
            "image/png": "[encoded data removed]",
            "text/plain": [
              "<Figure size 432x288 with 1 Axes>"
            ]
          },
          "metadata": {
            "tags": [],
            "needs_background": "light"
          }
        }
      ]
    },
    {
      "cell_type": "code",
      "metadata": {
        "scrolled": true,
        "colab": {
          "base_uri": "https://localhost:8080/",
          "height": 281
        },
        "id": "GgzH-xE42Sf4",
        "outputId": "95711d08-927d-4fff-f37e-81ef1377723f"
      },
      "source": [
        "ri.stop_datetime.dt.hour.value_counts().sort_index().plot()"
      ],
      "execution_count": 141,
      "outputs": [
        {
          "output_type": "execute_result",
          "data": {
            "text/plain": [
              "<matplotlib.axes._subplots.AxesSubplot at 0x7f0fc4c0b210>"
            ]
          },
          "metadata": {
            "tags": []
          },
          "execution_count": 141
        },
        {
          "output_type": "display_data",
          "data": {
            "image/png": "[encoded data removed]",
            "text/plain": [
              "<Figure size 432x288 with 1 Axes>"
            ]
          },
          "metadata": {
            "tags": [],
            "needs_background": "light"
          }
        }
      ]
    },
    {
      "cell_type": "code",
      "metadata": {
        "colab": {
          "base_uri": "https://localhost:8080/",
          "height": 296
        },
        "id": "vC00V8BY2Sf5",
        "outputId": "0cf4f098-f9a9-4671-cd91-d5463931e8cc"
      },
      "source": [
        "# alternative method\n",
        "ri.groupby(ri.stop_datetime.dt.hour).stop_date.count().plot()"
      ],
      "execution_count": 142,
      "outputs": [
        {
          "output_type": "execute_result",
          "data": {
            "text/plain": [
              "<matplotlib.axes._subplots.AxesSubplot at 0x7f0fc4b84390>"
            ]
          },
          "metadata": {
            "tags": []
          },
          "execution_count": 142
        },
        {
          "output_type": "display_data",
          "data": {
            "image/png": "[encoded data removed]",
            "text/plain": [
              "<Figure size 432x288 with 1 Axes>"
            ]
          },
          "metadata": {
            "tags": [],
            "needs_background": "light"
          }
        }
      ]
    },
    {
      "cell_type": "markdown",
      "metadata": {
        "id": "kxuVm97w2Sf5"
      },
      "source": [
        "Lessons:\n",
        "\n",
        "- Be conscious of sorting when plotting"
      ]
    },
    {
      "cell_type": "markdown",
      "metadata": {
        "id": "w_sbc9fO2Sf5"
      },
      "source": [
        "## 9. Find the bad data in the stop_duration column and fix it "
      ]
    },
    {
      "cell_type": "code",
      "metadata": {
        "scrolled": true,
        "colab": {
          "base_uri": "https://localhost:8080/"
        },
        "id": "LXc5GgFJ2Sf6",
        "outputId": "20a6bbdb-d01d-420a-f609-64af3b115872"
      },
      "source": [
        "# mark bad data as missing\n",
        "ri.stop_duration.value_counts()"
      ],
      "execution_count": 143,
      "outputs": [
        {
          "output_type": "execute_result",
          "data": {
            "text/plain": [
              "0-15 Min     69543\n",
              "16-30 Min    13635\n",
              "30+ Min       3228\n",
              "2                1\n",
              "1                1\n",
              "Name: stop_duration, dtype: int64"
            ]
          },
          "metadata": {
            "tags": []
          },
          "execution_count": 143
        }
      ]
    },
    {
      "cell_type": "code",
      "metadata": {
        "id": "FLmxA0vv2Sf6"
      },
      "source": [
        "# what four things are wrong with this code?\n",
        "# ri[ri.stop_duration == 1 | ri.stop_duration == 2].stop_duration = 'NaN'"
      ],
      "execution_count": 144,
      "outputs": []
    },
    {
      "cell_type": "code",
      "metadata": {
        "colab": {
          "base_uri": "https://localhost:8080/"
        },
        "id": "uANnfBDn2Sf7",
        "outputId": "cc6625d3-586d-447a-a8db-e0a84af6a510"
      },
      "source": [
        "# what two things are still wrong with this code?\n",
        "ri[(ri.stop_duration == '1') | (ri.stop_duration == '2')].stop_duration = 'NaN'"
      ],
      "execution_count": 145,
      "outputs": [
        {
          "output_type": "stream",
          "text": [
            "/usr/local/lib/python3.7/dist-packages/pandas/core/generic.py:5170: SettingWithCopyWarning: \n",
            "A value is trying to be set on a copy of a slice from a DataFrame.\n",
            "Try using .loc[row_indexer,col_indexer] = value instead\n",
            "\n",
            "See the caveats in the documentation: https://pandas.pydata.org/pandas-docs/stable/user_guide/indexing.html#returning-a-view-versus-a-copy\n",
            "  self[name] = value\n"
          ],
          "name": "stderr"
        }
      ]
    },
    {
      "cell_type": "code",
      "metadata": {
        "colab": {
          "base_uri": "https://localhost:8080/"
        },
        "id": "N2m9416Q2SgB",
        "outputId": "9653fe04-32e6-466e-e378-90613c14d361"
      },
      "source": [
        "# assignment statement did not work\n",
        "ri.stop_duration.value_counts()"
      ],
      "execution_count": 146,
      "outputs": [
        {
          "output_type": "execute_result",
          "data": {
            "text/plain": [
              "0-15 Min     69543\n",
              "16-30 Min    13635\n",
              "30+ Min       3228\n",
              "2                1\n",
              "1                1\n",
              "Name: stop_duration, dtype: int64"
            ]
          },
          "metadata": {
            "tags": []
          },
          "execution_count": 146
        }
      ]
    },
    {
      "cell_type": "code",
      "metadata": {
        "id": "3lBrURTl2SgC"
      },
      "source": [
        "# solves SettingWithCopyWarning\n",
        "ri.loc[(ri.stop_duration == '1') | (ri.stop_duration == '2'), 'stop_duration'] = 'NaN'"
      ],
      "execution_count": 147,
      "outputs": []
    },
    {
      "cell_type": "code",
      "metadata": {
        "colab": {
          "base_uri": "https://localhost:8080/"
        },
        "id": "FY7jbdfF2SgC",
        "outputId": "93e5a1fd-9115-4cfa-86eb-275ea2ad91b8"
      },
      "source": [
        "# confusing!\n",
        "ri.stop_duration.value_counts(dropna=False)"
      ],
      "execution_count": 148,
      "outputs": [
        {
          "output_type": "execute_result",
          "data": {
            "text/plain": [
              "0-15 Min     69543\n",
              "16-30 Min    13635\n",
              "NaN           5333\n",
              "30+ Min       3228\n",
              "NaN              2\n",
              "Name: stop_duration, dtype: int64"
            ]
          },
          "metadata": {
            "tags": []
          },
          "execution_count": 148
        }
      ]
    },
    {
      "cell_type": "code",
      "metadata": {
        "id": "IlxmP_Lm2SgC"
      },
      "source": [
        "# replace 'NaN' string with actual NaN value\n",
        "import numpy as np\n",
        "ri.loc[ri.stop_duration == 'NaN', 'stop_duration'] = np.nan"
      ],
      "execution_count": 149,
      "outputs": []
    },
    {
      "cell_type": "code",
      "metadata": {
        "colab": {
          "base_uri": "https://localhost:8080/"
        },
        "id": "_40RBjdQ2SgD",
        "outputId": "555fbf85-af8e-48c3-f66e-7e4cc2456587"
      },
      "source": [
        "ri.stop_duration.value_counts(dropna=False)"
      ],
      "execution_count": 150,
      "outputs": [
        {
          "output_type": "execute_result",
          "data": {
            "text/plain": [
              "0-15 Min     69543\n",
              "16-30 Min    13635\n",
              "NaN           5335\n",
              "30+ Min       3228\n",
              "Name: stop_duration, dtype: int64"
            ]
          },
          "metadata": {
            "tags": []
          },
          "execution_count": 150
        }
      ]
    },
    {
      "cell_type": "code",
      "metadata": {
        "id": "9j-Utg282SgE"
      },
      "source": [
        "# alternative method\n",
        "ri.stop_duration.replace(['1', '2'], value=np.nan, inplace=True)"
      ],
      "execution_count": 151,
      "outputs": []
    },
    {
      "cell_type": "markdown",
      "metadata": {
        "id": "cMTpvlHf2SgE"
      },
      "source": [
        "Lessons:\n",
        "\n",
        "- Ambiguous data should be marked as missing\n",
        "- Don't ignore the SettingWithCopyWarning\n",
        "- NaN is not a string"
      ]
    },
    {
      "cell_type": "markdown",
      "metadata": {
        "id": "1PSxeRN42SgF"
      },
      "source": [
        "## 10. What is the mean stop_duration for each violation_raw?"
      ]
    },
    {
      "cell_type": "code",
      "metadata": {
        "id": "1AQtFadA2SgF"
      },
      "source": [
        "# make sure you create this column\n",
        "mapping = {'0-15 Min':8, '16-30 Min':23, '30+ Min':45}\n",
        "ri['stop_minutes'] = ri.stop_duration.map(mapping)"
      ],
      "execution_count": 152,
      "outputs": []
    },
    {
      "cell_type": "code",
      "metadata": {
        "colab": {
          "base_uri": "https://localhost:8080/"
        },
        "id": "_hcWFx-82SgG",
        "outputId": "3459ee69-444b-4513-9d18-133d67819203"
      },
      "source": [
        "# matches value_counts for stop_duration\n",
        "ri.stop_minutes.value_counts()"
      ],
      "execution_count": 153,
      "outputs": [
        {
          "output_type": "execute_result",
          "data": {
            "text/plain": [
              "8.0     69543\n",
              "23.0    13635\n",
              "45.0     3228\n",
              "Name: stop_minutes, dtype: int64"
            ]
          },
          "metadata": {
            "tags": []
          },
          "execution_count": 153
        }
      ]
    },
    {
      "cell_type": "code",
      "metadata": {
        "colab": {
          "base_uri": "https://localhost:8080/"
        },
        "id": "-T9uqC0O2SgH",
        "outputId": "895bc889-b226-4181-e79f-e274f32e421c"
      },
      "source": [
        "ri.groupby('violation_raw').stop_minutes.mean()"
      ],
      "execution_count": 154,
      "outputs": [
        {
          "output_type": "execute_result",
          "data": {
            "text/plain": [
              "violation_raw\n",
              "APB                                 20.987342\n",
              "Call for Service                    22.034669\n",
              "Equipment/Inspection Violation      11.460345\n",
              "Motorist Assist/Courtesy            16.916256\n",
              "Other Traffic Violation             13.900265\n",
              "Registration Violation              13.745629\n",
              "Seatbelt Violation                   9.741531\n",
              "Special Detail/Directed Patrol      15.061100\n",
              "Speeding                            10.577690\n",
              "Suspicious Person                   18.750000\n",
              "Violation of City/Town Ordinance    13.388626\n",
              "Warrant                             21.400000\n",
              "Name: stop_minutes, dtype: float64"
            ]
          },
          "metadata": {
            "tags": []
          },
          "execution_count": 154
        }
      ]
    },
    {
      "cell_type": "code",
      "metadata": {
        "colab": {
          "base_uri": "https://localhost:8080/",
          "height": 437
        },
        "id": "soK3r1X82SgH",
        "outputId": "a9d15680-4bc0-46ba-d987-db8287934138"
      },
      "source": [
        "ri.groupby('violation_raw').stop_minutes.agg(['mean', 'count'])"
      ],
      "execution_count": 155,
      "outputs": [
        {
          "output_type": "execute_result",
          "data": {
            "text/html": [
              "<div>\n",
              "<style scoped>\n",
              "    .dataframe tbody tr th:only-of-type {\n",
              "        vertical-align: middle;\n",
              "    }\n",
              "\n",
              "    .dataframe tbody tr th {\n",
              "        vertical-align: top;\n",
              "    }\n",
              "\n",
              "    .dataframe thead th {\n",
              "        text-align: right;\n",
              "    }\n",
              "</style>\n",
              "<table border=\"1\" class=\"dataframe\">\n",
              "  <thead>\n",
              "    <tr style=\"text-align: right;\">\n",
              "      <th></th>\n",
              "      <th>mean</th>\n",
              "      <th>count</th>\n",
              "    </tr>\n",
              "    <tr>\n",
              "      <th>violation_raw</th>\n",
              "      <th></th>\n",
              "      <th></th>\n",
              "    </tr>\n",
              "  </thead>\n",
              "  <tbody>\n",
              "    <tr>\n",
              "      <th>APB</th>\n",
              "      <td>20.987342</td>\n",
              "      <td>79</td>\n",
              "    </tr>\n",
              "    <tr>\n",
              "      <th>Call for Service</th>\n",
              "      <td>22.034669</td>\n",
              "      <td>1298</td>\n",
              "    </tr>\n",
              "    <tr>\n",
              "      <th>Equipment/Inspection Violation</th>\n",
              "      <td>11.460345</td>\n",
              "      <td>11020</td>\n",
              "    </tr>\n",
              "    <tr>\n",
              "      <th>Motorist Assist/Courtesy</th>\n",
              "      <td>16.916256</td>\n",
              "      <td>203</td>\n",
              "    </tr>\n",
              "    <tr>\n",
              "      <th>Other Traffic Violation</th>\n",
              "      <td>13.900265</td>\n",
              "      <td>16223</td>\n",
              "    </tr>\n",
              "    <tr>\n",
              "      <th>Registration Violation</th>\n",
              "      <td>13.745629</td>\n",
              "      <td>3432</td>\n",
              "    </tr>\n",
              "    <tr>\n",
              "      <th>Seatbelt Violation</th>\n",
              "      <td>9.741531</td>\n",
              "      <td>2952</td>\n",
              "    </tr>\n",
              "    <tr>\n",
              "      <th>Special Detail/Directed Patrol</th>\n",
              "      <td>15.061100</td>\n",
              "      <td>2455</td>\n",
              "    </tr>\n",
              "    <tr>\n",
              "      <th>Speeding</th>\n",
              "      <td>10.577690</td>\n",
              "      <td>48462</td>\n",
              "    </tr>\n",
              "    <tr>\n",
              "      <th>Suspicious Person</th>\n",
              "      <td>18.750000</td>\n",
              "      <td>56</td>\n",
              "    </tr>\n",
              "    <tr>\n",
              "      <th>Violation of City/Town Ordinance</th>\n",
              "      <td>13.388626</td>\n",
              "      <td>211</td>\n",
              "    </tr>\n",
              "    <tr>\n",
              "      <th>Warrant</th>\n",
              "      <td>21.400000</td>\n",
              "      <td>15</td>\n",
              "    </tr>\n",
              "  </tbody>\n",
              "</table>\n",
              "</div>"
            ],
            "text/plain": [
              "                                       mean  count\n",
              "violation_raw                                     \n",
              "APB                               20.987342     79\n",
              "Call for Service                  22.034669   1298\n",
              "Equipment/Inspection Violation    11.460345  11020\n",
              "Motorist Assist/Courtesy          16.916256    203\n",
              "Other Traffic Violation           13.900265  16223\n",
              "Registration Violation            13.745629   3432\n",
              "Seatbelt Violation                 9.741531   2952\n",
              "Special Detail/Directed Patrol    15.061100   2455\n",
              "Speeding                          10.577690  48462\n",
              "Suspicious Person                 18.750000     56\n",
              "Violation of City/Town Ordinance  13.388626    211\n",
              "Warrant                           21.400000     15"
            ]
          },
          "metadata": {
            "tags": []
          },
          "execution_count": 155
        }
      ]
    },
    {
      "cell_type": "markdown",
      "metadata": {
        "id": "pPv6oFnB2SgI"
      },
      "source": [
        "Lessons:\n",
        "\n",
        "- Convert strings to numbers for analysis\n",
        "- Approximate when necessary\n",
        "- Use count with mean to looking for meaningless means"
      ]
    },
    {
      "cell_type": "markdown",
      "metadata": {
        "id": "s7f8q9X02SgI"
      },
      "source": [
        "## 11. Plot the results of the first groupby from the previous exercise"
      ]
    },
    {
      "cell_type": "code",
      "metadata": {
        "colab": {
          "base_uri": "https://localhost:8080/",
          "height": 296
        },
        "id": "Rhfy4_5K2SgJ",
        "outputId": "5c0838f5-59df-4345-a056-066f3272c192"
      },
      "source": [
        "# what's wrong with this?\n",
        "ri.groupby('violation_raw').stop_minutes.mean().plot()"
      ],
      "execution_count": 156,
      "outputs": [
        {
          "output_type": "execute_result",
          "data": {
            "text/plain": [
              "<matplotlib.axes._subplots.AxesSubplot at 0x7f0fc4a64e90>"
            ]
          },
          "metadata": {
            "tags": []
          },
          "execution_count": 156
        },
        {
          "output_type": "display_data",
          "data": {
            "image/png": "[encoded data removed]",
            "text/plain": [
              "<Figure size 432x288 with 1 Axes>"
            ]
          },
          "metadata": {
            "tags": [],
            "needs_background": "light"
          }
        }
      ]
    },
    {
      "cell_type": "code",
      "metadata": {
        "colab": {
          "base_uri": "https://localhost:8080/",
          "height": 448
        },
        "id": "s8ZQZ7CE2SgK",
        "outputId": "71d4e13f-df88-4b64-b0b3-e47c9ef2c87f"
      },
      "source": [
        "# how could this be made better?\n",
        "ri.groupby('violation_raw').stop_minutes.mean().plot(kind='bar')"
      ],
      "execution_count": 157,
      "outputs": [
        {
          "output_type": "execute_result",
          "data": {
            "text/plain": [
              "<matplotlib.axes._subplots.AxesSubplot at 0x7f0fc4960250>"
            ]
          },
          "metadata": {
            "tags": []
          },
          "execution_count": 157
        },
        {
          "output_type": "display_data",
          "data": {
            "image/png": "[encoded data removed]",
            "text/plain": [
              "<Figure size 432x288 with 1 Axes>"
            ]
          },
          "metadata": {
            "tags": [],
            "needs_background": "light"
          }
        }
      ]
    },
    {
      "cell_type": "code",
      "metadata": {
        "colab": {
          "base_uri": "https://localhost:8080/",
          "height": 281
        },
        "id": "QLa1pk_T2SgK",
        "outputId": "c16a0e3e-91a5-4dfd-9085-77fd132830b8"
      },
      "source": [
        "ri.groupby('violation_raw').stop_minutes.mean().sort_values().plot(kind='barh')"
      ],
      "execution_count": 158,
      "outputs": [
        {
          "output_type": "execute_result",
          "data": {
            "text/plain": [
              "<matplotlib.axes._subplots.AxesSubplot at 0x7f0fc4878e50>"
            ]
          },
          "metadata": {
            "tags": []
          },
          "execution_count": 158
        },
        {
          "output_type": "display_data",
          "data": {
            "image/png": "[encoded data removed]",
            "text/plain": [
              "<Figure size 432x288 with 1 Axes>"
            ]
          },
          "metadata": {
            "tags": [],
            "needs_background": "light"
          }
        }
      ]
    },
    {
      "cell_type": "markdown",
      "metadata": {
        "id": "6xM0GxeA2SgL"
      },
      "source": [
        "Lessons:\n",
        "\n",
        "- Don't use a line plot to compare categories\n",
        "- Be conscious of sorting and orientation when plotting"
      ]
    },
    {
      "cell_type": "markdown",
      "metadata": {
        "id": "yz0r-T-E2SgM"
      },
      "source": [
        "## 12. Compare the age distributions for each violation"
      ]
    },
    {
      "cell_type": "code",
      "metadata": {
        "colab": {
          "base_uri": "https://localhost:8080/",
          "height": 257
        },
        "id": "XVbYpqqh2SgN",
        "outputId": "017d5e4d-3813-4e8f-84c3-0be75d1a1c99"
      },
      "source": [
        "# good first step\n",
        "ri.groupby('violation').driver_age.describe()"
      ],
      "execution_count": 159,
      "outputs": [
        {
          "output_type": "execute_result",
          "data": {
            "text/html": [
              "<div>\n",
              "<style scoped>\n",
              "    .dataframe tbody tr th:only-of-type {\n",
              "        vertical-align: middle;\n",
              "    }\n",
              "\n",
              "    .dataframe tbody tr th {\n",
              "        vertical-align: top;\n",
              "    }\n",
              "\n",
              "    .dataframe thead th {\n",
              "        text-align: right;\n",
              "    }\n",
              "</style>\n",
              "<table border=\"1\" class=\"dataframe\">\n",
              "  <thead>\n",
              "    <tr style=\"text-align: right;\">\n",
              "      <th></th>\n",
              "      <th>count</th>\n",
              "      <th>mean</th>\n",
              "      <th>std</th>\n",
              "      <th>min</th>\n",
              "      <th>25%</th>\n",
              "      <th>50%</th>\n",
              "      <th>75%</th>\n",
              "      <th>max</th>\n",
              "    </tr>\n",
              "    <tr>\n",
              "      <th>violation</th>\n",
              "      <th></th>\n",
              "      <th></th>\n",
              "      <th></th>\n",
              "      <th></th>\n",
              "      <th></th>\n",
              "      <th></th>\n",
              "      <th></th>\n",
              "      <th></th>\n",
              "    </tr>\n",
              "  </thead>\n",
              "  <tbody>\n",
              "    <tr>\n",
              "      <th>Equipment</th>\n",
              "      <td>11007.0</td>\n",
              "      <td>31.781503</td>\n",
              "      <td>11.400900</td>\n",
              "      <td>16.0</td>\n",
              "      <td>23.0</td>\n",
              "      <td>28.0</td>\n",
              "      <td>38.0</td>\n",
              "      <td>89.0</td>\n",
              "    </tr>\n",
              "    <tr>\n",
              "      <th>Moving violation</th>\n",
              "      <td>16164.0</td>\n",
              "      <td>36.120020</td>\n",
              "      <td>13.185805</td>\n",
              "      <td>15.0</td>\n",
              "      <td>25.0</td>\n",
              "      <td>33.0</td>\n",
              "      <td>46.0</td>\n",
              "      <td>99.0</td>\n",
              "    </tr>\n",
              "    <tr>\n",
              "      <th>Other</th>\n",
              "      <td>4204.0</td>\n",
              "      <td>39.536870</td>\n",
              "      <td>13.034639</td>\n",
              "      <td>16.0</td>\n",
              "      <td>28.0</td>\n",
              "      <td>39.0</td>\n",
              "      <td>49.0</td>\n",
              "      <td>87.0</td>\n",
              "    </tr>\n",
              "    <tr>\n",
              "      <th>Registration/plates</th>\n",
              "      <td>3427.0</td>\n",
              "      <td>32.803035</td>\n",
              "      <td>11.033675</td>\n",
              "      <td>16.0</td>\n",
              "      <td>24.0</td>\n",
              "      <td>30.0</td>\n",
              "      <td>40.0</td>\n",
              "      <td>74.0</td>\n",
              "    </tr>\n",
              "    <tr>\n",
              "      <th>Seat belt</th>\n",
              "      <td>2952.0</td>\n",
              "      <td>32.206301</td>\n",
              "      <td>11.213122</td>\n",
              "      <td>17.0</td>\n",
              "      <td>24.0</td>\n",
              "      <td>29.0</td>\n",
              "      <td>38.0</td>\n",
              "      <td>77.0</td>\n",
              "    </tr>\n",
              "    <tr>\n",
              "      <th>Speeding</th>\n",
              "      <td>48361.0</td>\n",
              "      <td>33.530097</td>\n",
              "      <td>12.821847</td>\n",
              "      <td>15.0</td>\n",
              "      <td>23.0</td>\n",
              "      <td>30.0</td>\n",
              "      <td>42.0</td>\n",
              "      <td>90.0</td>\n",
              "    </tr>\n",
              "  </tbody>\n",
              "</table>\n",
              "</div>"
            ],
            "text/plain": [
              "                       count       mean        std  ...   50%   75%   max\n",
              "violation                                           ...                  \n",
              "Equipment            11007.0  31.781503  11.400900  ...  28.0  38.0  89.0\n",
              "Moving violation     16164.0  36.120020  13.185805  ...  33.0  46.0  99.0\n",
              "Other                 4204.0  39.536870  13.034639  ...  39.0  49.0  87.0\n",
              "Registration/plates   3427.0  32.803035  11.033675  ...  30.0  40.0  74.0\n",
              "Seat belt             2952.0  32.206301  11.213122  ...  29.0  38.0  77.0\n",
              "Speeding             48361.0  33.530097  12.821847  ...  30.0  42.0  90.0\n",
              "\n",
              "[6 rows x 8 columns]"
            ]
          },
          "metadata": {
            "tags": []
          },
          "execution_count": 159
        }
      ]
    },
    {
      "cell_type": "code",
      "metadata": {
        "colab": {
          "base_uri": "https://localhost:8080/",
          "height": 281
        },
        "id": "M6e1Opy_2SgN",
        "outputId": "e875ce35-cdba-430a-a2f6-4cc45acbc322"
      },
      "source": [
        "# histograms are excellent for displaying distributions\n",
        "ri.driver_age.plot(kind='hist')"
      ],
      "execution_count": 160,
      "outputs": [
        {
          "output_type": "execute_result",
          "data": {
            "text/plain": [
              "<matplotlib.axes._subplots.AxesSubplot at 0x7f0fc61d8c90>"
            ]
          },
          "metadata": {
            "tags": []
          },
          "execution_count": 160
        },
        {
          "output_type": "display_data",
          "data": {
            "image/png": "[encoded data removed]",
            "text/plain": [
              "<Figure size 432x288 with 1 Axes>"
            ]
          },
          "metadata": {
            "tags": [],
            "needs_background": "light"
          }
        }
      ]
    },
    {
      "cell_type": "code",
      "metadata": {
        "colab": {
          "base_uri": "https://localhost:8080/",
          "height": 281
        },
        "id": "wBpSWpmq2SgO",
        "outputId": "5df480fb-cc05-4e9c-f119-a4fa73ee0284"
      },
      "source": [
        "# similar to a histogram\n",
        "ri.driver_age.value_counts().sort_index().plot()"
      ],
      "execution_count": 161,
      "outputs": [
        {
          "output_type": "execute_result",
          "data": {
            "text/plain": [
              "<matplotlib.axes._subplots.AxesSubplot at 0x7f0fc61b7310>"
            ]
          },
          "metadata": {
            "tags": []
          },
          "execution_count": 161
        },
        {
          "output_type": "display_data",
          "data": {
            "image/png": "[encoded data removed]",
            "text/plain": [
              "<Figure size 432x288 with 1 Axes>"
            ]
          },
          "metadata": {
            "tags": [],
            "needs_background": "light"
          }
        }
      ]
    },
    {
      "cell_type": "code",
      "metadata": {
        "colab": {
          "base_uri": "https://localhost:8080/",
          "height": 400
        },
        "id": "GJuePdR02SgP",
        "outputId": "bd9277cf-bf14-48ca-8647-582e525d1f23"
      },
      "source": [
        "# can't use the plot method\n",
        "ri.hist('driver_age', by='violation')"
      ],
      "execution_count": 162,
      "outputs": [
        {
          "output_type": "execute_result",
          "data": {
            "text/plain": [
              "array([[<matplotlib.axes._subplots.AxesSubplot object at 0x7f0fc615f090>,\n",
              "        <matplotlib.axes._subplots.AxesSubplot object at 0x7f0fc60ef6d0>],\n",
              "       [<matplotlib.axes._subplots.AxesSubplot object at 0x7f0fc60a5b90>,\n",
              "        <matplotlib.axes._subplots.AxesSubplot object at 0x7f0fc6069150>],\n",
              "       [<matplotlib.axes._subplots.AxesSubplot object at 0x7f0fc601e6d0>,\n",
              "        <matplotlib.axes._subplots.AxesSubplot object at 0x7f0fc6053c50>]],\n",
              "      dtype=object)"
            ]
          },
          "metadata": {
            "tags": []
          },
          "execution_count": 162
        },
        {
          "output_type": "display_data",
          "data": {
            "image/png": "[encoded data removed]",
            "text/plain": [
              "<Figure size 432x288 with 6 Axes>"
            ]
          },
          "metadata": {
            "tags": [],
            "needs_background": "light"
          }
        }
      ]
    },
    {
      "cell_type": "code",
      "metadata": {
        "colab": {
          "base_uri": "https://localhost:8080/",
          "height": 405
        },
        "id": "Td9Euhob2SgP",
        "outputId": "c37cc1cf-b2ce-451b-dc5d-5f8ec749ad26"
      },
      "source": [
        "# what changed? how is this better or worse?\n",
        "ri.hist('driver_age', by='violation', sharex=True)"
      ],
      "execution_count": 163,
      "outputs": [
        {
          "output_type": "execute_result",
          "data": {
            "text/plain": [
              "array([[<matplotlib.axes._subplots.AxesSubplot object at 0x7f0fc5fb8650>,\n",
              "        <matplotlib.axes._subplots.AxesSubplot object at 0x7f0fc4d5edd0>],\n",
              "       [<matplotlib.axes._subplots.AxesSubplot object at 0x7f0fc4b77310>,\n",
              "        <matplotlib.axes._subplots.AxesSubplot object at 0x7f0fc4a06690>],\n",
              "       [<matplotlib.axes._subplots.AxesSubplot object at 0x7f0fc62431d0>,\n",
              "        <matplotlib.axes._subplots.AxesSubplot object at 0x7f0fc5eacf10>]],\n",
              "      dtype=object)"
            ]
          },
          "metadata": {
            "tags": []
          },
          "execution_count": 163
        },
        {
          "output_type": "display_data",
          "data": {
            "image/png": "[encoded data removed]",
            "text/plain": [
              "<Figure size 432x288 with 6 Axes>"
            ]
          },
          "metadata": {
            "tags": [],
            "needs_background": "light"
          }
        }
      ]
    },
    {
      "cell_type": "code",
      "metadata": {
        "colab": {
          "base_uri": "https://localhost:8080/",
          "height": 405
        },
        "id": "yRmbwLXn2SgQ",
        "outputId": "d371c3ed-61d8-42a8-94f6-aa8442f6f3fd"
      },
      "source": [
        "# what changed? how is this better or worse?\n",
        "ri.hist('driver_age', by='violation', sharex=True, sharey=True)"
      ],
      "execution_count": 164,
      "outputs": [
        {
          "output_type": "execute_result",
          "data": {
            "text/plain": [
              "array([[<matplotlib.axes._subplots.AxesSubplot object at 0x7f0fc61457d0>,\n",
              "        <matplotlib.axes._subplots.AxesSubplot object at 0x7f0fc5c4d150>],\n",
              "       [<matplotlib.axes._subplots.AxesSubplot object at 0x7f0fc5c00250>,\n",
              "        <matplotlib.axes._subplots.AxesSubplot object at 0x7f0fc5bb7350>],\n",
              "       [<matplotlib.axes._subplots.AxesSubplot object at 0x7f0fc4ce4450>,\n",
              "        <matplotlib.axes._subplots.AxesSubplot object at 0x7f0fc4c5d550>]],\n",
              "      dtype=object)"
            ]
          },
          "metadata": {
            "tags": []
          },
          "execution_count": 164
        },
        {
          "output_type": "display_data",
          "data": {
            "image/png": "[encoded data removed]",
            "text/plain": [
              "<Figure size 432x288 with 6 Axes>"
            ]
          },
          "metadata": {
            "tags": [],
            "needs_background": "light"
          }
        }
      ]
    },
    {
      "cell_type": "markdown",
      "metadata": {
        "id": "odqnRlju2SgR"
      },
      "source": [
        "Lessons:\n",
        "\n",
        "- Use histograms to show distributions\n",
        "- Be conscious of axes when using grouped plots"
      ]
    },
    {
      "cell_type": "markdown",
      "metadata": {
        "id": "m1jYXuyU2SgR"
      },
      "source": [
        "## 13. Pretend you don't have the driver_age column, and create it from driver_age_raw (and call it new_age)"
      ]
    },
    {
      "cell_type": "code",
      "metadata": {
        "colab": {
          "base_uri": "https://localhost:8080/",
          "height": 301
        },
        "id": "P6NUz9vu2SgS",
        "outputId": "d08f9196-d3ab-41fb-d6cc-07c0333b8578"
      },
      "source": [
        "ri.head()"
      ],
      "execution_count": 165,
      "outputs": [
        {
          "output_type": "execute_result",
          "data": {
            "text/html": [
              "<div>\n",
              "<style scoped>\n",
              "    .dataframe tbody tr th:only-of-type {\n",
              "        vertical-align: middle;\n",
              "    }\n",
              "\n",
              "    .dataframe tbody tr th {\n",
              "        vertical-align: top;\n",
              "    }\n",
              "\n",
              "    .dataframe thead th {\n",
              "        text-align: right;\n",
              "    }\n",
              "</style>\n",
              "<table border=\"1\" class=\"dataframe\">\n",
              "  <thead>\n",
              "    <tr style=\"text-align: right;\">\n",
              "      <th></th>\n",
              "      <th>stop_date</th>\n",
              "      <th>stop_time</th>\n",
              "      <th>driver_gender</th>\n",
              "      <th>driver_age_raw</th>\n",
              "      <th>driver_age</th>\n",
              "      <th>driver_race</th>\n",
              "      <th>violation_raw</th>\n",
              "      <th>violation</th>\n",
              "      <th>search_conducted</th>\n",
              "      <th>search_type</th>\n",
              "      <th>stop_outcome</th>\n",
              "      <th>is_arrested</th>\n",
              "      <th>stop_duration</th>\n",
              "      <th>drugs_related_stop</th>\n",
              "      <th>frisk</th>\n",
              "      <th>stop_datetime</th>\n",
              "      <th>stop_minutes</th>\n",
              "    </tr>\n",
              "  </thead>\n",
              "  <tbody>\n",
              "    <tr>\n",
              "      <th>0</th>\n",
              "      <td>2005-01-02</td>\n",
              "      <td>01:55</td>\n",
              "      <td>M</td>\n",
              "      <td>1985.0</td>\n",
              "      <td>20.0</td>\n",
              "      <td>White</td>\n",
              "      <td>Speeding</td>\n",
              "      <td>Speeding</td>\n",
              "      <td>False</td>\n",
              "      <td>NaN</td>\n",
              "      <td>Citation</td>\n",
              "      <td>False</td>\n",
              "      <td>0-15 Min</td>\n",
              "      <td>False</td>\n",
              "      <td>NaN</td>\n",
              "      <td>2005-01-02 01:55:00</td>\n",
              "      <td>8.0</td>\n",
              "    </tr>\n",
              "    <tr>\n",
              "      <th>1</th>\n",
              "      <td>2005-01-18</td>\n",
              "      <td>08:15</td>\n",
              "      <td>M</td>\n",
              "      <td>1965.0</td>\n",
              "      <td>40.0</td>\n",
              "      <td>White</td>\n",
              "      <td>Speeding</td>\n",
              "      <td>Speeding</td>\n",
              "      <td>False</td>\n",
              "      <td>NaN</td>\n",
              "      <td>Citation</td>\n",
              "      <td>False</td>\n",
              "      <td>0-15 Min</td>\n",
              "      <td>False</td>\n",
              "      <td>NaN</td>\n",
              "      <td>2005-01-18 08:15:00</td>\n",
              "      <td>8.0</td>\n",
              "    </tr>\n",
              "    <tr>\n",
              "      <th>2</th>\n",
              "      <td>2005-01-23</td>\n",
              "      <td>23:15</td>\n",
              "      <td>M</td>\n",
              "      <td>1972.0</td>\n",
              "      <td>33.0</td>\n",
              "      <td>White</td>\n",
              "      <td>Speeding</td>\n",
              "      <td>Speeding</td>\n",
              "      <td>False</td>\n",
              "      <td>NaN</td>\n",
              "      <td>Citation</td>\n",
              "      <td>False</td>\n",
              "      <td>0-15 Min</td>\n",
              "      <td>False</td>\n",
              "      <td>NaN</td>\n",
              "      <td>2005-01-23 23:15:00</td>\n",
              "      <td>8.0</td>\n",
              "    </tr>\n",
              "    <tr>\n",
              "      <th>3</th>\n",
              "      <td>2005-02-20</td>\n",
              "      <td>17:15</td>\n",
              "      <td>M</td>\n",
              "      <td>1986.0</td>\n",
              "      <td>19.0</td>\n",
              "      <td>White</td>\n",
              "      <td>Call for Service</td>\n",
              "      <td>Other</td>\n",
              "      <td>False</td>\n",
              "      <td>NaN</td>\n",
              "      <td>Arrest Driver</td>\n",
              "      <td>True</td>\n",
              "      <td>16-30 Min</td>\n",
              "      <td>False</td>\n",
              "      <td>NaN</td>\n",
              "      <td>2005-02-20 17:15:00</td>\n",
              "      <td>23.0</td>\n",
              "    </tr>\n",
              "    <tr>\n",
              "      <th>4</th>\n",
              "      <td>2005-03-14</td>\n",
              "      <td>10:00</td>\n",
              "      <td>F</td>\n",
              "      <td>1984.0</td>\n",
              "      <td>21.0</td>\n",
              "      <td>White</td>\n",
              "      <td>Speeding</td>\n",
              "      <td>Speeding</td>\n",
              "      <td>False</td>\n",
              "      <td>NaN</td>\n",
              "      <td>Citation</td>\n",
              "      <td>False</td>\n",
              "      <td>0-15 Min</td>\n",
              "      <td>False</td>\n",
              "      <td>NaN</td>\n",
              "      <td>2005-03-14 10:00:00</td>\n",
              "      <td>8.0</td>\n",
              "    </tr>\n",
              "  </tbody>\n",
              "</table>\n",
              "</div>"
            ],
            "text/plain": [
              "    stop_date stop_time driver_gender  ...  frisk       stop_datetime stop_minutes\n",
              "0  2005-01-02     01:55             M  ...    NaN 2005-01-02 01:55:00          8.0\n",
              "1  2005-01-18     08:15             M  ...    NaN 2005-01-18 08:15:00          8.0\n",
              "2  2005-01-23     23:15             M  ...    NaN 2005-01-23 23:15:00          8.0\n",
              "3  2005-02-20     17:15             M  ...    NaN 2005-02-20 17:15:00         23.0\n",
              "4  2005-03-14     10:00             F  ...    NaN 2005-03-14 10:00:00          8.0\n",
              "\n",
              "[5 rows x 17 columns]"
            ]
          },
          "metadata": {
            "tags": []
          },
          "execution_count": 165
        }
      ]
    },
    {
      "cell_type": "code",
      "metadata": {
        "colab": {
          "base_uri": "https://localhost:8080/",
          "height": 301
        },
        "id": "3-p957LN2SgS",
        "outputId": "46d10a09-109d-47ca-e085-305b3facd78f"
      },
      "source": [
        "# appears to be year of stop_date minus driver_age_raw\n",
        "ri.tail()"
      ],
      "execution_count": 166,
      "outputs": [
        {
          "output_type": "execute_result",
          "data": {
            "text/html": [
              "<div>\n",
              "<style scoped>\n",
              "    .dataframe tbody tr th:only-of-type {\n",
              "        vertical-align: middle;\n",
              "    }\n",
              "\n",
              "    .dataframe tbody tr th {\n",
              "        vertical-align: top;\n",
              "    }\n",
              "\n",
              "    .dataframe thead th {\n",
              "        text-align: right;\n",
              "    }\n",
              "</style>\n",
              "<table border=\"1\" class=\"dataframe\">\n",
              "  <thead>\n",
              "    <tr style=\"text-align: right;\">\n",
              "      <th></th>\n",
              "      <th>stop_date</th>\n",
              "      <th>stop_time</th>\n",
              "      <th>driver_gender</th>\n",
              "      <th>driver_age_raw</th>\n",
              "      <th>driver_age</th>\n",
              "      <th>driver_race</th>\n",
              "      <th>violation_raw</th>\n",
              "      <th>violation</th>\n",
              "      <th>search_conducted</th>\n",
              "      <th>search_type</th>\n",
              "      <th>stop_outcome</th>\n",
              "      <th>is_arrested</th>\n",
              "      <th>stop_duration</th>\n",
              "      <th>drugs_related_stop</th>\n",
              "      <th>frisk</th>\n",
              "      <th>stop_datetime</th>\n",
              "      <th>stop_minutes</th>\n",
              "    </tr>\n",
              "  </thead>\n",
              "  <tbody>\n",
              "    <tr>\n",
              "      <th>91736</th>\n",
              "      <td>2015-12-31</td>\n",
              "      <td>20:27</td>\n",
              "      <td>M</td>\n",
              "      <td>1986.0</td>\n",
              "      <td>29.0</td>\n",
              "      <td>White</td>\n",
              "      <td>Speeding</td>\n",
              "      <td>Speeding</td>\n",
              "      <td>False</td>\n",
              "      <td>NaN</td>\n",
              "      <td>Warning</td>\n",
              "      <td>False</td>\n",
              "      <td>0-15 Min</td>\n",
              "      <td>False</td>\n",
              "      <td>NaN</td>\n",
              "      <td>2015-12-31 20:27:00</td>\n",
              "      <td>8.0</td>\n",
              "    </tr>\n",
              "    <tr>\n",
              "      <th>91737</th>\n",
              "      <td>2015-12-31</td>\n",
              "      <td>20:35</td>\n",
              "      <td>F</td>\n",
              "      <td>1982.0</td>\n",
              "      <td>33.0</td>\n",
              "      <td>White</td>\n",
              "      <td>Equipment/Inspection Violation</td>\n",
              "      <td>Equipment</td>\n",
              "      <td>False</td>\n",
              "      <td>NaN</td>\n",
              "      <td>Warning</td>\n",
              "      <td>False</td>\n",
              "      <td>0-15 Min</td>\n",
              "      <td>False</td>\n",
              "      <td>NaN</td>\n",
              "      <td>2015-12-31 20:35:00</td>\n",
              "      <td>8.0</td>\n",
              "    </tr>\n",
              "    <tr>\n",
              "      <th>91738</th>\n",
              "      <td>2015-12-31</td>\n",
              "      <td>20:45</td>\n",
              "      <td>M</td>\n",
              "      <td>1992.0</td>\n",
              "      <td>23.0</td>\n",
              "      <td>White</td>\n",
              "      <td>Other Traffic Violation</td>\n",
              "      <td>Moving violation</td>\n",
              "      <td>False</td>\n",
              "      <td>NaN</td>\n",
              "      <td>Warning</td>\n",
              "      <td>False</td>\n",
              "      <td>0-15 Min</td>\n",
              "      <td>False</td>\n",
              "      <td>NaN</td>\n",
              "      <td>2015-12-31 20:45:00</td>\n",
              "      <td>8.0</td>\n",
              "    </tr>\n",
              "    <tr>\n",
              "      <th>91739</th>\n",
              "      <td>2015-12-31</td>\n",
              "      <td>21:42</td>\n",
              "      <td>M</td>\n",
              "      <td>1993.0</td>\n",
              "      <td>22.0</td>\n",
              "      <td>White</td>\n",
              "      <td>Speeding</td>\n",
              "      <td>Speeding</td>\n",
              "      <td>False</td>\n",
              "      <td>NaN</td>\n",
              "      <td>Citation</td>\n",
              "      <td>False</td>\n",
              "      <td>0-15 Min</td>\n",
              "      <td>False</td>\n",
              "      <td>NaN</td>\n",
              "      <td>2015-12-31 21:42:00</td>\n",
              "      <td>8.0</td>\n",
              "    </tr>\n",
              "    <tr>\n",
              "      <th>91740</th>\n",
              "      <td>2015-12-31</td>\n",
              "      <td>22:46</td>\n",
              "      <td>M</td>\n",
              "      <td>1959.0</td>\n",
              "      <td>56.0</td>\n",
              "      <td>Hispanic</td>\n",
              "      <td>Speeding</td>\n",
              "      <td>Speeding</td>\n",
              "      <td>False</td>\n",
              "      <td>NaN</td>\n",
              "      <td>Citation</td>\n",
              "      <td>False</td>\n",
              "      <td>0-15 Min</td>\n",
              "      <td>False</td>\n",
              "      <td>NaN</td>\n",
              "      <td>2015-12-31 22:46:00</td>\n",
              "      <td>8.0</td>\n",
              "    </tr>\n",
              "  </tbody>\n",
              "</table>\n",
              "</div>"
            ],
            "text/plain": [
              "        stop_date stop_time  ...       stop_datetime  stop_minutes\n",
              "91736  2015-12-31     20:27  ... 2015-12-31 20:27:00           8.0\n",
              "91737  2015-12-31     20:35  ... 2015-12-31 20:35:00           8.0\n",
              "91738  2015-12-31     20:45  ... 2015-12-31 20:45:00           8.0\n",
              "91739  2015-12-31     21:42  ... 2015-12-31 21:42:00           8.0\n",
              "91740  2015-12-31     22:46  ... 2015-12-31 22:46:00           8.0\n",
              "\n",
              "[5 rows x 17 columns]"
            ]
          },
          "metadata": {
            "tags": []
          },
          "execution_count": 166
        }
      ]
    },
    {
      "cell_type": "code",
      "metadata": {
        "id": "xl7A_3pm2SgT"
      },
      "source": [
        "ri['new_age'] = ri.stop_datetime.dt.year - ri.driver_age_raw"
      ],
      "execution_count": 167,
      "outputs": []
    },
    {
      "cell_type": "code",
      "metadata": {
        "colab": {
          "base_uri": "https://localhost:8080/",
          "height": 331
        },
        "id": "-qlbt4N_2SgU",
        "outputId": "c09580f8-4c90-4dca-f15a-6846506a301b"
      },
      "source": [
        "# compare the distributions\n",
        "ri[['driver_age', 'new_age']].hist()"
      ],
      "execution_count": 168,
      "outputs": [
        {
          "output_type": "execute_result",
          "data": {
            "text/plain": [
              "array([[<matplotlib.axes._subplots.AxesSubplot object at 0x7f0fc49afa50>,\n",
              "        <matplotlib.axes._subplots.AxesSubplot object at 0x7f0fc49190d0>]],\n",
              "      dtype=object)"
            ]
          },
          "metadata": {
            "tags": []
          },
          "execution_count": 168
        },
        {
          "output_type": "display_data",
          "data": {
            "image/png": "[encoded data removed]",
            "text/plain": [
              "<Figure size 432x288 with 2 Axes>"
            ]
          },
          "metadata": {
            "tags": [],
            "needs_background": "light"
          }
        }
      ]
    },
    {
      "cell_type": "code",
      "metadata": {
        "colab": {
          "base_uri": "https://localhost:8080/",
          "height": 287
        },
        "id": "Dk8zsgpr2SgU",
        "outputId": "9191a807-061a-48f7-8a47-c194c5e8a221"
      },
      "source": [
        "# compare the summary statistics (focus on min and max)\n",
        "ri[['driver_age', 'new_age']].describe()"
      ],
      "execution_count": 169,
      "outputs": [
        {
          "output_type": "execute_result",
          "data": {
            "text/html": [
              "<div>\n",
              "<style scoped>\n",
              "    .dataframe tbody tr th:only-of-type {\n",
              "        vertical-align: middle;\n",
              "    }\n",
              "\n",
              "    .dataframe tbody tr th {\n",
              "        vertical-align: top;\n",
              "    }\n",
              "\n",
              "    .dataframe thead th {\n",
              "        text-align: right;\n",
              "    }\n",
              "</style>\n",
              "<table border=\"1\" class=\"dataframe\">\n",
              "  <thead>\n",
              "    <tr style=\"text-align: right;\">\n",
              "      <th></th>\n",
              "      <th>driver_age</th>\n",
              "      <th>new_age</th>\n",
              "    </tr>\n",
              "  </thead>\n",
              "  <tbody>\n",
              "    <tr>\n",
              "      <th>count</th>\n",
              "      <td>86120.000000</td>\n",
              "      <td>86414.000000</td>\n",
              "    </tr>\n",
              "    <tr>\n",
              "      <th>mean</th>\n",
              "      <td>34.011333</td>\n",
              "      <td>39.784294</td>\n",
              "    </tr>\n",
              "    <tr>\n",
              "      <th>std</th>\n",
              "      <td>12.738564</td>\n",
              "      <td>110.822145</td>\n",
              "    </tr>\n",
              "    <tr>\n",
              "      <th>min</th>\n",
              "      <td>15.000000</td>\n",
              "      <td>-6794.000000</td>\n",
              "    </tr>\n",
              "    <tr>\n",
              "      <th>25%</th>\n",
              "      <td>23.000000</td>\n",
              "      <td>24.000000</td>\n",
              "    </tr>\n",
              "    <tr>\n",
              "      <th>50%</th>\n",
              "      <td>31.000000</td>\n",
              "      <td>31.000000</td>\n",
              "    </tr>\n",
              "    <tr>\n",
              "      <th>75%</th>\n",
              "      <td>43.000000</td>\n",
              "      <td>43.000000</td>\n",
              "    </tr>\n",
              "    <tr>\n",
              "      <th>max</th>\n",
              "      <td>99.000000</td>\n",
              "      <td>2015.000000</td>\n",
              "    </tr>\n",
              "  </tbody>\n",
              "</table>\n",
              "</div>"
            ],
            "text/plain": [
              "         driver_age       new_age\n",
              "count  86120.000000  86414.000000\n",
              "mean      34.011333     39.784294\n",
              "std       12.738564    110.822145\n",
              "min       15.000000  -6794.000000\n",
              "25%       23.000000     24.000000\n",
              "50%       31.000000     31.000000\n",
              "75%       43.000000     43.000000\n",
              "max       99.000000   2015.000000"
            ]
          },
          "metadata": {
            "tags": []
          },
          "execution_count": 169
        }
      ]
    },
    {
      "cell_type": "code",
      "metadata": {
        "colab": {
          "base_uri": "https://localhost:8080/"
        },
        "id": "s9B2EIkU2SgV",
        "outputId": "258561ae-d5d0-446f-8213-af1ec0405a46"
      },
      "source": [
        "# calculate how many ages are outside that range\n",
        "ri[(ri.new_age < 15) | (ri.new_age > 99)].shape"
      ],
      "execution_count": 170,
      "outputs": [
        {
          "output_type": "execute_result",
          "data": {
            "text/plain": [
              "(294, 18)"
            ]
          },
          "metadata": {
            "tags": []
          },
          "execution_count": 170
        }
      ]
    },
    {
      "cell_type": "code",
      "metadata": {
        "scrolled": true,
        "colab": {
          "base_uri": "https://localhost:8080/"
        },
        "id": "9f5eclZ52SgV",
        "outputId": "cce28482-4bac-4e1b-f5f3-919ca2077450"
      },
      "source": [
        "# raw data given to the researchers\n",
        "ri.driver_age_raw.isnull().sum()"
      ],
      "execution_count": 171,
      "outputs": [
        {
          "output_type": "execute_result",
          "data": {
            "text/plain": [
              "5327"
            ]
          },
          "metadata": {
            "tags": []
          },
          "execution_count": 171
        }
      ]
    },
    {
      "cell_type": "code",
      "metadata": {
        "colab": {
          "base_uri": "https://localhost:8080/"
        },
        "id": "PNoT39RH2SgW",
        "outputId": "2e6abb16-8104-4cf6-e1d3-4759c780ac03"
      },
      "source": [
        "# age computed by the researchers (has more missing values)\n",
        "ri.driver_age.isnull().sum()"
      ],
      "execution_count": 172,
      "outputs": [
        {
          "output_type": "execute_result",
          "data": {
            "text/plain": [
              "5621"
            ]
          },
          "metadata": {
            "tags": []
          },
          "execution_count": 172
        }
      ]
    },
    {
      "cell_type": "code",
      "metadata": {
        "colab": {
          "base_uri": "https://localhost:8080/"
        },
        "id": "no51MeyT2SgW",
        "outputId": "7bb42d14-964c-4e44-f449-4d8d5d3a0cb7"
      },
      "source": [
        "# what does this tell us? researchers set driver_age as missing if less than 15 or more than 99\n",
        "5621-5327"
      ],
      "execution_count": 173,
      "outputs": [
        {
          "output_type": "execute_result",
          "data": {
            "text/plain": [
              "294"
            ]
          },
          "metadata": {
            "tags": []
          },
          "execution_count": 173
        }
      ]
    },
    {
      "cell_type": "code",
      "metadata": {
        "colab": {
          "base_uri": "https://localhost:8080/",
          "height": 301
        },
        "id": "gsyoJKYR2SgX",
        "outputId": "676a9321-3ac4-4c80-c0e2-cc52563269ca"
      },
      "source": [
        "# driver_age_raw NOT MISSING, driver_age MISSING\n",
        "ri[(ri.driver_age_raw.notnull()) & (ri.driver_age.isnull())].head()"
      ],
      "execution_count": 174,
      "outputs": [
        {
          "output_type": "execute_result",
          "data": {
            "text/html": [
              "<div>\n",
              "<style scoped>\n",
              "    .dataframe tbody tr th:only-of-type {\n",
              "        vertical-align: middle;\n",
              "    }\n",
              "\n",
              "    .dataframe tbody tr th {\n",
              "        vertical-align: top;\n",
              "    }\n",
              "\n",
              "    .dataframe thead th {\n",
              "        text-align: right;\n",
              "    }\n",
              "</style>\n",
              "<table border=\"1\" class=\"dataframe\">\n",
              "  <thead>\n",
              "    <tr style=\"text-align: right;\">\n",
              "      <th></th>\n",
              "      <th>stop_date</th>\n",
              "      <th>stop_time</th>\n",
              "      <th>driver_gender</th>\n",
              "      <th>driver_age_raw</th>\n",
              "      <th>driver_age</th>\n",
              "      <th>driver_race</th>\n",
              "      <th>violation_raw</th>\n",
              "      <th>violation</th>\n",
              "      <th>search_conducted</th>\n",
              "      <th>search_type</th>\n",
              "      <th>stop_outcome</th>\n",
              "      <th>is_arrested</th>\n",
              "      <th>stop_duration</th>\n",
              "      <th>drugs_related_stop</th>\n",
              "      <th>frisk</th>\n",
              "      <th>stop_datetime</th>\n",
              "      <th>stop_minutes</th>\n",
              "      <th>new_age</th>\n",
              "    </tr>\n",
              "  </thead>\n",
              "  <tbody>\n",
              "    <tr>\n",
              "      <th>146</th>\n",
              "      <td>2005-10-05</td>\n",
              "      <td>08:50</td>\n",
              "      <td>M</td>\n",
              "      <td>0.0</td>\n",
              "      <td>NaN</td>\n",
              "      <td>White</td>\n",
              "      <td>Other Traffic Violation</td>\n",
              "      <td>Moving violation</td>\n",
              "      <td>False</td>\n",
              "      <td>NaN</td>\n",
              "      <td>Citation</td>\n",
              "      <td>False</td>\n",
              "      <td>0-15 Min</td>\n",
              "      <td>False</td>\n",
              "      <td>NaN</td>\n",
              "      <td>2005-10-05 08:50:00</td>\n",
              "      <td>8.0</td>\n",
              "      <td>2005.0</td>\n",
              "    </tr>\n",
              "    <tr>\n",
              "      <th>281</th>\n",
              "      <td>2005-10-10</td>\n",
              "      <td>12:05</td>\n",
              "      <td>F</td>\n",
              "      <td>0.0</td>\n",
              "      <td>NaN</td>\n",
              "      <td>White</td>\n",
              "      <td>Other Traffic Violation</td>\n",
              "      <td>Moving violation</td>\n",
              "      <td>False</td>\n",
              "      <td>NaN</td>\n",
              "      <td>Warning</td>\n",
              "      <td>False</td>\n",
              "      <td>0-15 Min</td>\n",
              "      <td>False</td>\n",
              "      <td>NaN</td>\n",
              "      <td>2005-10-10 12:05:00</td>\n",
              "      <td>8.0</td>\n",
              "      <td>2005.0</td>\n",
              "    </tr>\n",
              "    <tr>\n",
              "      <th>331</th>\n",
              "      <td>2005-10-12</td>\n",
              "      <td>07:50</td>\n",
              "      <td>M</td>\n",
              "      <td>0.0</td>\n",
              "      <td>NaN</td>\n",
              "      <td>White</td>\n",
              "      <td>Motorist Assist/Courtesy</td>\n",
              "      <td>Other</td>\n",
              "      <td>False</td>\n",
              "      <td>NaN</td>\n",
              "      <td>No Action</td>\n",
              "      <td>False</td>\n",
              "      <td>0-15 Min</td>\n",
              "      <td>False</td>\n",
              "      <td>NaN</td>\n",
              "      <td>2005-10-12 07:50:00</td>\n",
              "      <td>8.0</td>\n",
              "      <td>2005.0</td>\n",
              "    </tr>\n",
              "    <tr>\n",
              "      <th>414</th>\n",
              "      <td>2005-10-17</td>\n",
              "      <td>08:32</td>\n",
              "      <td>M</td>\n",
              "      <td>2005.0</td>\n",
              "      <td>NaN</td>\n",
              "      <td>White</td>\n",
              "      <td>Other Traffic Violation</td>\n",
              "      <td>Moving violation</td>\n",
              "      <td>False</td>\n",
              "      <td>NaN</td>\n",
              "      <td>Citation</td>\n",
              "      <td>False</td>\n",
              "      <td>0-15 Min</td>\n",
              "      <td>False</td>\n",
              "      <td>NaN</td>\n",
              "      <td>2005-10-17 08:32:00</td>\n",
              "      <td>8.0</td>\n",
              "      <td>0.0</td>\n",
              "    </tr>\n",
              "    <tr>\n",
              "      <th>455</th>\n",
              "      <td>2005-10-18</td>\n",
              "      <td>18:30</td>\n",
              "      <td>F</td>\n",
              "      <td>0.0</td>\n",
              "      <td>NaN</td>\n",
              "      <td>White</td>\n",
              "      <td>Speeding</td>\n",
              "      <td>Speeding</td>\n",
              "      <td>False</td>\n",
              "      <td>NaN</td>\n",
              "      <td>Warning</td>\n",
              "      <td>False</td>\n",
              "      <td>0-15 Min</td>\n",
              "      <td>False</td>\n",
              "      <td>NaN</td>\n",
              "      <td>2005-10-18 18:30:00</td>\n",
              "      <td>8.0</td>\n",
              "      <td>2005.0</td>\n",
              "    </tr>\n",
              "  </tbody>\n",
              "</table>\n",
              "</div>"
            ],
            "text/plain": [
              "      stop_date stop_time  ... stop_minutes  new_age\n",
              "146  2005-10-05     08:50  ...          8.0   2005.0\n",
              "281  2005-10-10     12:05  ...          8.0   2005.0\n",
              "331  2005-10-12     07:50  ...          8.0   2005.0\n",
              "414  2005-10-17     08:32  ...          8.0      0.0\n",
              "455  2005-10-18     18:30  ...          8.0   2005.0\n",
              "\n",
              "[5 rows x 18 columns]"
            ]
          },
          "metadata": {
            "tags": []
          },
          "execution_count": 174
        }
      ]
    },
    {
      "cell_type": "code",
      "metadata": {
        "id": "ggDD9T-o2SgX"
      },
      "source": [
        "# set the ages outside that range as missing\n",
        "ri.loc[(ri.new_age < 15) | (ri.new_age > 99), 'new_age'] = np.nan"
      ],
      "execution_count": 175,
      "outputs": []
    },
    {
      "cell_type": "code",
      "metadata": {
        "scrolled": true,
        "colab": {
          "base_uri": "https://localhost:8080/"
        },
        "id": "C__M8-0i2SgY",
        "outputId": "ddeffbbf-6f1a-4f99-b5fd-c181e54a18f0"
      },
      "source": [
        "ri.new_age.equals(ri.driver_age)"
      ],
      "execution_count": 176,
      "outputs": [
        {
          "output_type": "execute_result",
          "data": {
            "text/plain": [
              "True"
            ]
          },
          "metadata": {
            "tags": []
          },
          "execution_count": 176
        }
      ]
    },
    {
      "cell_type": "markdown",
      "metadata": {
        "id": "aJhTGngK2SgY"
      },
      "source": [
        "Lessons:\n",
        "\n",
        "- Don't assume that the head and tail are representative of the data\n",
        "- Columns with missing values may still have bad data (driver_age_raw)\n",
        "- Data cleaning sometimes involves guessing (driver_age)\n",
        "- Use histograms for a sanity check"
      ]
    }
  ]
}